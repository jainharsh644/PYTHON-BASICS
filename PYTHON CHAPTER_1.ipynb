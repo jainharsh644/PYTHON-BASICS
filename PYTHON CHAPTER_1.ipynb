{
 "cells": [
  {
   "cell_type": "markdown",
   "metadata": {},
   "source": [
    "## TABLE OF CONTENT : "
   ]
  },
  {
   "cell_type": "markdown",
   "metadata": {},
   "source": [
    "1. Escape Sequence\n",
    "2. Escape Sequence as Normal Text\n",
    "3. Python as Calculator \n",
    "4. Variables in Python"
   ]
  },
  {
   "cell_type": "code",
   "execution_count": 1,
   "metadata": {},
   "outputs": [
    {
     "name": "stdout",
     "output_type": "stream",
     "text": [
      "Hello world\n"
     ]
    }
   ],
   "source": [
    "print(\"Hello world\")"
   ]
  },
  {
   "cell_type": "code",
   "execution_count": 2,
   "metadata": {},
   "outputs": [
    {
     "name": "stdout",
     "output_type": "stream",
     "text": [
      "HelloA\n",
      "HelloB\n"
     ]
    }
   ],
   "source": [
    "print(\"HelloA\\nHelloB\")"
   ]
  },
  {
   "cell_type": "code",
   "execution_count": 6,
   "metadata": {},
   "outputs": [
    {
     "name": "stdout",
     "output_type": "stream",
     "text": [
      "Hello '\\World' \n"
     ]
    }
   ],
   "source": [
    "#Escape Sequence\n",
    "print(\"Hello '\\World\\' \")"
   ]
  },
  {
   "cell_type": "code",
   "execution_count": 19,
   "metadata": {},
   "outputs": [
    {
     "name": "stdout",
     "output_type": "stream",
     "text": [
      "Line A \\n Line B\n",
      "Line a \\t Line b\n",
      "This is Double backslash \\\\\n",
      "This is 4 backslash \\\\\\\\\n",
      " \\\" \\' \n",
      " \\' -' \n",
      " \\\\ - \\ \n"
     ]
    }
   ],
   "source": [
    "#Escape Sequence as NOrmal Text\n",
    "\n",
    "print(\"Line A \\\\n Line B\")\n",
    "print(\"Line a \\\\t Line b\")\n",
    "print(\"This is Double backslash \\\\\\\\\")\n",
    "print(\"This is 4 backslash \\\\\\\\\\\\\\\\\")\n",
    "print(\" \\\\\\\" \\\\\\' \")\n",
    "print(\" \\\\\\' -' \")\n",
    "print(\" \\\\\\\\ - \\\\ \")"
   ]
  },
  {
   "cell_type": "code",
   "execution_count": 35,
   "metadata": {},
   "outputs": [
    {
     "name": "stdout",
     "output_type": "stream",
     "text": [
      "this is \\\\ double backslash\n",
      "this is /\\/\\/\\/\\/\\ mountain\n",
      "this is /\\/\\/\\/\\/\\ mountain\n",
      "he is\t\tawesome\n",
      " \\\" \\n \\t \\' \n"
     ]
    }
   ],
   "source": [
    "#EXERCISE - I\n",
    "\n",
    "print(\"this is \\\\\\\\ double backslash\")\n",
    "print(\"this is /\\/\\/\\/\\/\\ mountain\")\n",
    "print(\"this is /\\\\/\\\\/\\\\/\\\\/\\\\ mountain\")\n",
    "print(\"he is\\t\\tawesome\")\n",
    "print(\" \\\\\\\" \\\\n \\\\t \\\\\\' \")"
   ]
  },
  {
   "cell_type": "code",
   "execution_count": 36,
   "metadata": {},
   "outputs": [
    {
     "name": "stdout",
     "output_type": "stream",
     "text": [
      "line A \\n line B\n"
     ]
    }
   ],
   "source": [
    "#RAW STRINGS\n",
    "\n",
    "print(r\"line A \\n line B\")"
   ]
  },
  {
   "cell_type": "code",
   "execution_count": 51,
   "metadata": {},
   "outputs": [
    {
     "name": "stdout",
     "output_type": "stream",
     "text": [
      "5\n",
      "9\n",
      "2\n",
      "2\n",
      "-1\n",
      "1.4142135623730951\n",
      "1.4142\n",
      "20.0\n",
      "0.5\n",
      "512\n",
      "\t\t\t\t\tEND CALCULATOR\n"
     ]
    }
   ],
   "source": [
    "#PYTHON AS CALCULATOR \n",
    "\n",
    "print(2+3) #ADD\n",
    "print(int(2+3*5/2)) #MIX CAL\n",
    "print(8//3) # INT DIVISION\n",
    "print(6%4) #MODULO DIV\n",
    "print(2-3) #SUB\n",
    "print(2**0.5)\n",
    "print(round(2**0.5, 4))\n",
    "print(2**3/2*6-4*(3-4/2))\n",
    "print((2+3)*5/2%6)\n",
    "print(2**3**2)\n",
    "print(\"\\t\\t\\t\\t\\tEND CALCULATOR\")"
   ]
  },
  {
   "cell_type": "code",
   "execution_count": 60,
   "metadata": {},
   "outputs": [
    {
     "name": "stdout",
     "output_type": "stream",
     "text": [
      "1\n",
      "4\n",
      "Harsh\n",
      "123\n",
      "1. cant start with number but can use number in between the variable name\n",
      "2. can start with any letter and underscore\n",
      "3. cant start with special symbols and not even in middle\n"
     ]
    }
   ],
   "source": [
    "#VARIABLES IN PYTHON\n",
    "\n",
    "number = 1\n",
    "print(number)\n",
    "num1 = 4\n",
    "print(num1)\n",
    "name  = \"Harsh\"\n",
    "print(name)\n",
    "name = 123\n",
    "print(name)\n",
    "#PYTHON IS DYNAMIC PROGRAMMING AND ITS FLEXIBLE\n",
    "\n",
    "#RULES FOR VARIABLES\n",
    "\n",
    "print(\"1. cant start with number but can use number in between the variable name\\n2. can start with any letter and underscore\\n3. cant start with special symbols and not even in middle\")"
   ]
  },
  {
   "cell_type": "code",
   "execution_count": 63,
   "metadata": {},
   "outputs": [],
   "source": [
    "#Conventions:\n",
    "#SNAKE CASE WRITTING \n",
    "user_one_name = \"Rohit\"\n",
    "#CAMEL CASE WRITING\n",
    "userOneName = \"Harsh\""
   ]
  },
  {
   "cell_type": "code",
   "execution_count": 67,
   "metadata": {},
   "outputs": [
    {
     "name": "stdout",
     "output_type": "stream",
     "text": [
      "\t\t\tEND OF PYTHON CHAPTER_1\n"
     ]
    }
   ],
   "source": [
    "print(\"\\t\\t\\tEND OF PYTHON CHAPTER_1\")"
   ]
  },
  {
   "cell_type": "code",
   "execution_count": null,
   "metadata": {},
   "outputs": [],
   "source": []
  }
 ],
 "metadata": {
  "kernelspec": {
   "display_name": "Python 3",
   "language": "python",
   "name": "python3"
  },
  "language_info": {
   "codemirror_mode": {
    "name": "ipython",
    "version": 3
   },
   "file_extension": ".py",
   "mimetype": "text/x-python",
   "name": "python",
   "nbconvert_exporter": "python",
   "pygments_lexer": "ipython3",
   "version": "3.7.1"
  }
 },
 "nbformat": 4,
 "nbformat_minor": 2
}
