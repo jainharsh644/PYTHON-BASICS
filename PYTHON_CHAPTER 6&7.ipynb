{
 "cells": [
  {
   "cell_type": "code",
   "execution_count": 2,
   "metadata": {},
   "outputs": [
    {
     "name": "stdout",
     "output_type": "stream",
     "text": [
      "('one', 'two')\n",
      "('one', 'two', 'three')\n"
     ]
    }
   ],
   "source": [
    "#TUPLES:\n",
    "#It is a data structure used to store any data type\n",
    "#most imp - tuples are immutable, once created cant be changed or updated\n",
    "\n",
    "example = ('one', 'two', 'three')\n",
    "#no insert no append no remove\n",
    "#Tuples are faster than lists\n",
    "\n",
    "#methods : count, index, len, slicing \n",
    "print(example[:2])\n",
    "print(example)"
   ]
  },
  {
   "cell_type": "code",
   "execution_count": 3,
   "metadata": {},
   "outputs": [
    {
     "name": "stdout",
     "output_type": "stream",
     "text": [
      "1\n",
      "2\n",
      "3\n",
      "4.0\n",
      "<class 'tuple'>\n",
      "<class 'tuple'>\n",
      "<class 'tuple'>\n",
      "yamaha\n",
      "taylor\n",
      "<class 'tuple'>\n",
      "('south', ['tokyo'])\n",
      "('south', ['tokyo', 'we add'])\n"
     ]
    }
   ],
   "source": [
    "#MORE ABOUT TUPLES:\n",
    "#1. looping in the tuples :\n",
    "mixed = (1,2,3,4.0)\n",
    "\n",
    "#FOR LOOP WITH TUPLES:\n",
    "\n",
    "for i in mixed:\n",
    "    print(i)\n",
    "    \n",
    "#TUPLE WITH ONE ELEMENT:\n",
    "nums = (1,)\n",
    "words = (\"word1\",)\n",
    "print(type(nums))\n",
    "print(type(words))\n",
    "\n",
    "#TUPLES WITH PARANTHESIS:\n",
    "\n",
    "guitars = 'yamaha', 'baton', 'taylor'\n",
    "print(type(guitars))\n",
    "\n",
    "#TUPLE UNPACKING :\n",
    "g1, g2, g3 = (guitars)\n",
    "print(g1)\n",
    "print(g3)\n",
    "\n",
    "#LIST INSIDE TUPLE:\n",
    "\n",
    "fav = ('south', ['tokyo', 'landscape'])\n",
    "print(type(fav))\n",
    "fav[1].pop()\n",
    "print(fav)\n",
    "fav[1].append(\"we add\")\n",
    "print(fav)"
   ]
  },
  {
   "cell_type": "code",
   "execution_count": 4,
   "metadata": {},
   "outputs": [
    {
     "name": "stdout",
     "output_type": "stream",
     "text": [
      "<class 'tuple'>\n"
     ]
    }
   ],
   "source": [
    "#FUNCTION RETURNING TWO VALUES:\n",
    "def func(int1, int2):\n",
    "    add = int1 + int2\n",
    "    mul = int1 * int2\n",
    "    return add, mul\n",
    "print(type(func(2,3)))"
   ]
  },
  {
   "cell_type": "code",
   "execution_count": 5,
   "metadata": {},
   "outputs": [
    {
     "name": "stdout",
     "output_type": "stream",
     "text": [
      "<class 'str'>\n",
      "<class 'list'>\n",
      "<class 'str'>\n"
     ]
    }
   ],
   "source": [
    "#CONTINUATION : more about str, list, tuple\n",
    "nums1 = list(tuple(range(1,11)))\n",
    "nums = str(tuple(range(1,11)))\n",
    "nums2 = str(list(range(1,11)))\n",
    "print(type(nums))\n",
    "print(type(nums1))\n",
    "print(type(nums2))"
   ]
  },
  {
   "cell_type": "code",
   "execution_count": 6,
   "metadata": {},
   "outputs": [
    {
     "name": "stdout",
     "output_type": "stream",
     "text": [
      "\t\t\t\tINTRO TO DICTIONARIES\n"
     ]
    }
   ],
   "source": [
    "print(\"\\t\\t\\t\\tINTRO TO DICTIONARIES\")"
   ]
  },
  {
   "cell_type": "code",
   "execution_count": 7,
   "metadata": {},
   "outputs": [
    {
     "name": "stdout",
     "output_type": "stream",
     "text": [
      "{'name': 'Harsh', 'age': 24}\n",
      "<class 'dict'>\n",
      "<class 'dict'>\n",
      "Harsh\n",
      "coco\n",
      "{'name': 'Harsh', 'age': 19}\n"
     ]
    }
   ],
   "source": [
    "#DICTIONARIES are unordered collections of data in key : value pair.\n",
    "#Theres no indexing in dictionaries due to unordered collections of data.\n",
    "\n",
    "#Method - 1 :\n",
    "user = {'name': 'Harsh', 'age':24}\n",
    "print(user)\n",
    "print(type(user))\n",
    "#Method - 2 :\n",
    "user1 = dict(name='Harsh',age=24)\n",
    "print(type(user1))\n",
    "\n",
    "#how to access data from dictionaries:\n",
    "print(user['name'])\n",
    "\n",
    "#What kind of data can be stored in dictionaries:\n",
    "#strings, list, numbers \n",
    "user_info = {\n",
    "    'name' : 'Harsh',\n",
    "    'age' : 24,\n",
    "    'fav_movies' : ['coco','kimi'],\n",
    "    'fav_tunes' : ['awake','fairy']\n",
    "}\n",
    "print(user_info['fav_movies'][0])\n",
    "\n",
    "#How to add data into empty dictionaries:\n",
    "user_2 = {}\n",
    "user_2['name'] = 'Harsh'\n",
    "user_2['age'] = 19\n",
    "print(user_2)"
   ]
  },
  {
   "cell_type": "code",
   "execution_count": 8,
   "metadata": {},
   "outputs": [
    {
     "name": "stdout",
     "output_type": "stream",
     "text": [
      "Not present\n"
     ]
    }
   ],
   "source": [
    "#LOOPING AND IN KEYWORDS IN DICTIONARIES:\n",
    "user_info1 = {\n",
    "    'name' : 'Harsh',\n",
    "    'age' : 24,\n",
    "    'fav_movies' : ['coco','kimi'],\n",
    "    'fav_tunes' : ['awake','fairy']\n",
    "}\n",
    "\n",
    "#check if key exist in dictionary :\n",
    "#if 'name' in user_info:\n",
    "#    print(\"present\")\n",
    "\n",
    "#check if value exist in dictionart: using .values() Method \n",
    "if '24' in user_info1.values():\n",
    "    print(\"present\")\n",
    "else:\n",
    "    print(\"Not present\")\n",
    "#'24' is string and 24 is integer"
   ]
  },
  {
   "cell_type": "code",
   "execution_count": 9,
   "metadata": {},
   "outputs": [
    {
     "name": "stdout",
     "output_type": "stream",
     "text": [
      "name\n",
      "age\n",
      "fav_movies\n",
      "fav_tunes\n",
      "Harsh\n",
      "24\n",
      "['coco', 'kimi']\n",
      "['awake', 'fairy']\n",
      "dict_values(['Harsh', 24, ['coco', 'kimi'], ['awake', 'fairy']])\n",
      "<class 'dict_values'>\n",
      "dict_items([('name', 'Harsh'), ('age', 24), ('fav_movies', ['coco', 'kimi']), ('fav_tunes', ['awake', 'fairy'])])\n",
      "<class 'dict'>\n",
      "Key is name and value is Harsh\n",
      "Key is age and value is 24\n",
      "Key is fav_movies and value is ['coco', 'kimi']\n",
      "Key is fav_tunes and value is ['awake', 'fairy']\n"
     ]
    }
   ],
   "source": [
    "#LOOPS IN DICTIONARIES :\n",
    "user_info1 = {\n",
    "    'name' : 'Harsh',\n",
    "    'age' : 24,\n",
    "    'fav_movies' : ['coco','kimi'],\n",
    "    'fav_tunes' : ['awake','fairy']\n",
    "}\n",
    "for i in user_info1:\n",
    "    print(i)\n",
    "for i in user_info1.values():\n",
    "    print(i)\n",
    "    \n",
    "#values method :\n",
    "user_1 = user_info1.values()\n",
    "print(user_1)   #It prints the dictionary in list format but its still a dictionary.\n",
    "print(type(user_1))\n",
    "\n",
    "\n",
    "#ITEMS METHOD :\n",
    "user_items = user_info1.items()\n",
    "print(user_items) ### Returns the output like a tuple but its a dictionary.\n",
    "print(type(user_info1))\n",
    "\n",
    "#[(),(),(),()] in this format its printing the output.\n",
    "\n",
    "for key, value in user_info1.items():\n",
    "    print(f\"Key is {key} and value is {value}\")"
   ]
  },
  {
   "cell_type": "code",
   "execution_count": 10,
   "metadata": {},
   "outputs": [
    {
     "name": "stdout",
     "output_type": "stream",
     "text": [
      "{'name': 'Harsh', 'age': 24, 'fav_movies': ['coco', 'kimi'], 'fav_tunes': ['awake', 'fairy'], 'fav_songs': ['song1', 'song2']}\n",
      "{'name': 'Harsh', 'age': 24, 'fav_movies': ['coco', 'kimi']}\n",
      "['awake', 'fairy']\n",
      "{'name': 'Harsh', 'age': 24}\n",
      "('fav_movies', ['coco', 'kimi'])\n",
      "<class 'tuple'>\n"
     ]
    }
   ],
   "source": [
    "user_info = {\n",
    "    'name' : 'Harsh',\n",
    "    'age' : 24,\n",
    "    'fav_movies' : ['coco','kimi'],\n",
    "    'fav_tunes' : ['awake','fairy']\n",
    "}\n",
    "\n",
    "#how to add data into dictionaries:\n",
    "user_info['fav_songs'] = ['song1', 'song2']\n",
    "print(user_info)\n",
    "\n",
    "#pop method :\n",
    "user_info.pop('fav_songs') #pass the key value as parameyer.\n",
    "pop_item = user_info.pop('fav_tunes')\n",
    "print(user_info)\n",
    "print(pop_item)\n",
    "\n",
    "#popitem method :\n",
    "popped_item = user_info.popitem()\n",
    "print(user_info)\n",
    "print(popped_item)\n",
    "print(type(popped_item)) # ITs a tuple."
   ]
  },
  {
   "cell_type": "code",
   "execution_count": 11,
   "metadata": {},
   "outputs": [
    {
     "name": "stdout",
     "output_type": "stream",
     "text": [
      "{'name': 'harshjain', 'age': 24, 'fav_movies': ['coco', 'kimi'], 'fav_tunes': ['awake', 'fairy'], 'state': 'haryana', 'hobbies': ['coding', 'reading', 'guitar']}\n"
     ]
    }
   ],
   "source": [
    "#UPDATE METHOD IN DICTIONARIES : \n",
    "user_info = {\n",
    "    'name' : 'Harsh',\n",
    "    'age' : 24,\n",
    "    'fav_movies' : ['coco','kimi'],\n",
    "    'fav_tunes' : ['awake','fairy']\n",
    "}\n",
    "\n",
    "more_info = {'name' : 'harshjain', 'state' : 'haryana', 'hobbies' : ['coding', 'reading', 'guitar']}\n",
    "#it overrides the old name.\n",
    "user_info.update(more_info)\n",
    "print(user_info)"
   ]
  },
  {
   "cell_type": "code",
   "execution_count": 12,
   "metadata": {},
   "outputs": [
    {
     "name": "stdout",
     "output_type": "stream",
     "text": [
      "{'name': 'unknown', 'age': 'unknown', 'height': 'unknown'}\n",
      "{'a': 'unknown', 'b': 'unknown', 'c': 'unknown'}\n",
      "Harsh\n",
      "None\n",
      "present\n",
      "{}\n",
      "{}\n",
      "True\n"
     ]
    }
   ],
   "source": [
    "#fromkeys(), get(), copy(), clear() methods :\n",
    "\n",
    "#1. fromkeys\n",
    "#d = {'name' : 'unknown', 'age' : 'unknown'}\n",
    "d = dict.fromkeys(('name', 'age', 'height'),'unknown')\n",
    "print(d)\n",
    "d1 = dict.fromkeys(\"abc\", 'unknown') #IMP\n",
    "print(d1)\n",
    "\n",
    "#2. get method\n",
    "d = {'name':'Harsh', 'age':'unknown'}\n",
    "print(d.get('name'))\n",
    "print(d.get('names')) #returns NONE\n",
    "\n",
    "if d.get('name'):\n",
    "    print('present')\n",
    "else:\n",
    "    print('not present')\n",
    "    \n",
    "#3. clear method :\n",
    "d.clear()\n",
    "print(d)\n",
    "\n",
    "#4. copy method\n",
    "\n",
    "d1 = d.copy()\n",
    "print(d1)\n",
    "print(d1 == d)"
   ]
  },
  {
   "cell_type": "code",
   "execution_count": 13,
   "metadata": {},
   "outputs": [
    {
     "name": "stdout",
     "output_type": "stream",
     "text": [
      "not found !\n",
      "{'name': 'harsh', 'age': 34}\n"
     ]
    }
   ],
   "source": [
    "#more about get() method\n",
    "user = {'name':'harsh', 'age':24, 'age':34} #overrides the old age value.\n",
    "print(user.get('names', 'not found !'))\n",
    "print(user)"
   ]
  },
  {
   "cell_type": "code",
   "execution_count": 14,
   "metadata": {},
   "outputs": [
    {
     "name": "stdout",
     "output_type": "stream",
     "text": [
      "Enter the number10\n"
     ]
    },
    {
     "data": {
      "text/plain": [
       "{1: 1, 2: 8, 3: 27, 4: 64, 5: 125, 6: 216, 7: 343, 8: 512, 9: 729, 10: 1000}"
      ]
     },
     "execution_count": 14,
     "metadata": {},
     "output_type": "execute_result"
    }
   ],
   "source": [
    "#EXERCISE - I \n",
    "num = int(input('Enter the number'))\n",
    "def ex1(n):\n",
    "    d = {}\n",
    "    for i in range(1, n+1):\n",
    "        d[i] = i**3\n",
    "    return d\n",
    "ex1(num)"
   ]
  },
  {
   "cell_type": "code",
   "execution_count": 15,
   "metadata": {},
   "outputs": [
    {
     "name": "stdout",
     "output_type": "stream",
     "text": [
      "{'h': 2, 'a': 1, 'r': 1, 's': 1}\n"
     ]
    }
   ],
   "source": [
    "#WORD COUNTER DICTIONARY: \n",
    "def word_counter(s):\n",
    "    count = {}\n",
    "    for char in s:\n",
    "        count[char] = s.count(char)\n",
    "    return count\n",
    "\n",
    "print(word_counter('harsh'))"
   ]
  },
  {
   "cell_type": "code",
   "execution_count": 16,
   "metadata": {},
   "outputs": [
    {
     "name": "stdout",
     "output_type": "stream",
     "text": [
      "What is your name :harsh\n",
      "What is your age :19\n",
      "What is your fav_movies :sbm, mb\n",
      "what is your fav song :skg, hnv\n",
      "name : harsh\n",
      "age : 19\n",
      "fav_movies : ['sbm', ' mb']\n",
      "fav_songs : ['skg', ' hnv']\n"
     ]
    }
   ],
   "source": [
    "#take input from user and store into dictionary:\n",
    "user = {}\n",
    "name = input(\"What is your name :\")\n",
    "age = input(\"What is your age :\")\n",
    "fav_movies = input(\"What is your fav_movies :\").split(\",\")\n",
    "fav_songs = input(\"what is your fav song :\").split(\",\")\n",
    "\n",
    "user['name'] = name\n",
    "user['age'] = age\n",
    "user['fav_movies'] = fav_movies\n",
    "user['fav_songs'] = fav_songs\n",
    "\n",
    "for key, value in user.items():\n",
    "    print(f\"{key} : {value}\")\n",
    "    "
   ]
  },
  {
   "cell_type": "code",
   "execution_count": 17,
   "metadata": {},
   "outputs": [
    {
     "name": "stdout",
     "output_type": "stream",
     "text": [
      "\t\t\t\tEND OF CHAPTER 6&7\n"
     ]
    }
   ],
   "source": [
    "print(\"\\t\\t\\t\\tEND OF CHAPTER 6&7\")"
   ]
  },
  {
   "cell_type": "code",
   "execution_count": null,
   "metadata": {},
   "outputs": [],
   "source": []
  }
 ],
 "metadata": {
  "kernelspec": {
   "display_name": "Python 3",
   "language": "python",
   "name": "python3"
  },
  "language_info": {
   "codemirror_mode": {
    "name": "ipython",
    "version": 3
   },
   "file_extension": ".py",
   "mimetype": "text/x-python",
   "name": "python",
   "nbconvert_exporter": "python",
   "pygments_lexer": "ipython3",
   "version": "3.7.1"
  }
 },
 "nbformat": 4,
 "nbformat_minor": 2
}
