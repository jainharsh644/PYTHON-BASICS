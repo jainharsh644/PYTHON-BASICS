{
 "cells": [
  {
   "cell_type": "code",
   "execution_count": 1,
   "metadata": {},
   "outputs": [
    {
     "name": "stdout",
     "output_type": "stream",
     "text": [
      "<class 'set'>\n",
      "{1, 2, 3}\n",
      "[1, 2, 3, 4, 5, 6, 7, 8]\n",
      "{1, 2, 3, 9}\n",
      "{1, 2, 3}\n",
      "{1, 2, 3}\n",
      "set()\n",
      "set()\n",
      "{1, 2.3, 'string'}\n"
     ]
    }
   ],
   "source": [
    "#SETS :\n",
    "#Its a datatype - unordered collection of \" UNIQUE \" elements :\n",
    "#using sets we can remove duplicates from a list.\n",
    "s = {1,2,3}\n",
    "print(type(s))\n",
    "print(s)\n",
    "\n",
    "l = [1,2,3,4,5,5,5,5,6,7,7,8]\n",
    "#remove duplicates :\n",
    "s2 = list(set(l))   #removed the duplicates and converted back into list.\n",
    "print(s2)\n",
    "\n",
    "#SET METHODS  :\n",
    "#add items into a set.\n",
    "s.add(9)\n",
    "print(s)\n",
    "\n",
    "#remove data from set.\n",
    "s.remove(9)\n",
    "print(s)\n",
    "\n",
    "#discard method :\n",
    "s.discard(5)\n",
    "print(s)\n",
    "#clear method\n",
    "s.clear()\n",
    "print(s)\n",
    "#copy method\n",
    "s1 = s.copy()\n",
    "print(s1)\n",
    "\n",
    "s3 = {1, 1.0, 2.3, 'string'} #1.0 will not be printed as its same as 1.\n",
    "print(s3)\n",
    "\n",
    "#cant store lists and dictionaries in set."
   ]
  },
  {
   "cell_type": "code",
   "execution_count": 2,
   "metadata": {},
   "outputs": [
    {
     "name": "stdout",
     "output_type": "stream",
     "text": [
      "Not present\n",
      "b\n",
      "c\n",
      "a\n",
      "{1, 2, 3, 4, 5, 6}\n",
      "{3, 4}\n"
     ]
    }
   ],
   "source": [
    "#More about sets :\n",
    "#in keyword and for loop in set.\n",
    "s1 = {'a', 'b', 'c'}\n",
    "\n",
    "if 'a' in s:\n",
    "    print(\"Present\")\n",
    "else:\n",
    "    print(\"Not present\")\n",
    "    \n",
    "#For loop in sets:\n",
    "for item in s1:\n",
    "    print(item)   #it prints in different order. \n",
    "    \n",
    "#set maths :\n",
    "s2 = {1,2,3,4}\n",
    "s3 = {3,4,5,6}\n",
    "\n",
    "#UNION :\n",
    "union = s2 | s3\n",
    "print(union)\n",
    "#INTERSECTION :\n",
    "inter = s2 & s3\n",
    "print(inter)"
   ]
  },
  {
   "cell_type": "code",
   "execution_count": 3,
   "metadata": {},
   "outputs": [
    {
     "name": "stdout",
     "output_type": "stream",
     "text": [
      "\t\t\t\tCHAPTER 9 \n"
     ]
    }
   ],
   "source": [
    "print(\"\\t\\t\\t\\tCHAPTER 9 \")"
   ]
  },
  {
   "cell_type": "code",
   "execution_count": 4,
   "metadata": {},
   "outputs": [
    {
     "name": "stdout",
     "output_type": "stream",
     "text": [
      "[1, 4, 9, 16, 25, 36, 49, 64, 81, 100]\n",
      "[-1, -2, -3, -4, -5, -6, -7, -8, -9, -10]\n",
      "['h', 'j', 's']\n",
      "['h', 'j', 's']\n"
     ]
    }
   ],
   "source": [
    "#LIST COMPREHENSION :\n",
    "# \" using list comprehension we can create a list in one line \"\n",
    "\n",
    "#create a list comprehension of squares from 1 to 10 \n",
    "\n",
    "#normal method :\n",
    "#squares = []\n",
    "#for i in range(1, 11):\n",
    "#    squares.append(i**2)\n",
    "#print(squares)\n",
    "squares = [i**2 for i in range(1, 11)]\n",
    "print(squares) \n",
    "\n",
    "new_negative = [-i for i in range(1, 11)]\n",
    "print(new_negative)\n",
    "\n",
    "#Method I\n",
    "list1 = ['harsh', 'jain', 'shrikrishna']\n",
    "new_list = []\n",
    "for i in list1:\n",
    "    new_list.append(i[0])\n",
    "print(new_list)\n",
    "\n",
    "#Method II\n",
    "new_list2 = [name[0] for name in list1]\n",
    "print(new_list2)\n",
    "\n"
   ]
  },
  {
   "cell_type": "code",
   "execution_count": 5,
   "metadata": {},
   "outputs": [
    {
     "name": "stdout",
     "output_type": "stream",
     "text": [
      "['cba', 'fed', 'ihg']\n",
      "['cba', 'fed', 'ihg']\n"
     ]
    }
   ],
   "source": [
    "#EXERCISE - I\n",
    "#using for loop :\n",
    "l = ['abc', 'def', 'ghi']\n",
    "new_list = [name[::-1] for name in l]\n",
    "print(new_list)\n",
    "\n",
    "#using functions\n",
    "l1 = ['abc', 'def', 'ghi']\n",
    "def reverse_list(l):\n",
    "    return [name[::-1] for name in l]\n",
    "print(reverse_list(l1))"
   ]
  },
  {
   "cell_type": "code",
   "execution_count": 6,
   "metadata": {},
   "outputs": [
    {
     "name": "stdout",
     "output_type": "stream",
     "text": [
      "[2, 4, 6, 8, 10]\n",
      "[1, 3, 5, 7, 9]\n"
     ]
    }
   ],
   "source": [
    "#LIST COMPREHENSION WITH IF STATEMENT:\n",
    "num = list(range(1,11))\n",
    "even_nums = [i for i in num if i%2==0]\n",
    "odd_nums = [i for i in num if i%2!=0]\n",
    "print(even_nums)\n",
    "print(odd_nums)"
   ]
  },
  {
   "cell_type": "code",
   "execution_count": 7,
   "metadata": {},
   "outputs": [
    {
     "name": "stdout",
     "output_type": "stream",
     "text": [
      "['1', '1.0', '3']\n"
     ]
    }
   ],
   "source": [
    "#EXERCISE - II\n",
    "list1 = [True, False, [1,2,3], 1, 1.0, 3]\n",
    "def num_str(l):\n",
    "    new_list = []\n",
    "    for i in l:\n",
    "        if type(i) == int or type(i) == float :\n",
    "            new_list.append(str(i))\n",
    "    return new_list\n",
    "print(num_str(list1))"
   ]
  },
  {
   "cell_type": "code",
   "execution_count": 8,
   "metadata": {},
   "outputs": [
    {
     "name": "stdout",
     "output_type": "stream",
     "text": [
      "['1', '1.0', '3']\n"
     ]
    }
   ],
   "source": [
    "#exercise - 2 using L.C\n",
    "list1 = [True, False, [1,2,3], 1, 1.0, 3]\n",
    "def num_str(l):\n",
    "    return [str(i) for i in l if (type(i) == int or type(i) == float)]\n",
    "print(num_str(list1))"
   ]
  },
  {
   "cell_type": "code",
   "execution_count": 12,
   "metadata": {},
   "outputs": [
    {
     "name": "stdout",
     "output_type": "stream",
     "text": [
      "[-1, 4, -3, 8, -5, 12, -7, 16, -9, 20]\n"
     ]
    }
   ],
   "source": [
    "#LC WITH IF ELSE :\n",
    "nums = list(range(1, 11))\n",
    "new_list = [i*2 if (i%2 ==0) else (-i) for i in nums] \n",
    "print(new_list)\n",
    "    "
   ]
  },
  {
   "cell_type": "code",
   "execution_count": 16,
   "metadata": {},
   "outputs": [
    {
     "name": "stdout",
     "output_type": "stream",
     "text": [
      "enter the no of times :5\n",
      "[[1, 2, 3], [1, 2, 3], [1, 2, 3], [1, 2, 3], [1, 2, 3]]\n"
     ]
    }
   ],
   "source": [
    "#NESTED LIST COMPREHENSION :\n",
    "example = [[1,2,3], [1,2,3], [1,2,3]]\n",
    "n = int(input(\"enter the no of times :\"))\n",
    "nestes_comp = [ [i for i in range(1,4)] for j in range(n) ]\n",
    "print(nestes_comp)"
   ]
  },
  {
   "cell_type": "code",
   "execution_count": 17,
   "metadata": {},
   "outputs": [
    {
     "name": "stdout",
     "output_type": "stream",
     "text": [
      "\t\t\t\tEND OF CHAPTER 8&9\n"
     ]
    }
   ],
   "source": [
    "print(\"\\t\\t\\t\\tEND OF CHAPTER 8&9\")"
   ]
  },
  {
   "cell_type": "code",
   "execution_count": null,
   "metadata": {},
   "outputs": [],
   "source": []
  }
 ],
 "metadata": {
  "kernelspec": {
   "display_name": "Python 3",
   "language": "python",
   "name": "python3"
  },
  "language_info": {
   "codemirror_mode": {
    "name": "ipython",
    "version": 3
   },
   "file_extension": ".py",
   "mimetype": "text/x-python",
   "name": "python",
   "nbconvert_exporter": "python",
   "pygments_lexer": "ipython3",
   "version": "3.7.1"
  }
 },
 "nbformat": 4,
 "nbformat_minor": 2
}
