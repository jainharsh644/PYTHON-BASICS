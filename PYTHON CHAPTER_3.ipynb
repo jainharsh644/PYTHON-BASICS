{
 "cells": [
  {
   "cell_type": "code",
   "execution_count": 3,
   "metadata": {},
   "outputs": [
    {
     "name": "stdout",
     "output_type": "stream",
     "text": [
      "Enter your age: 14\n",
      "Yor are above 14\n"
     ]
    }
   ],
   "source": [
    "#If Statement:\n",
    "age = input(\"Enter your age: \")\n",
    "age = int(age)\n",
    "if age >= 14:\n",
    "    print(\"Yor are above 14\")"
   ]
  },
  {
   "cell_type": "code",
   "execution_count": 4,
   "metadata": {},
   "outputs": [],
   "source": [
    "#PASS STATEMENT : \n",
    "x = 18\n",
    "if x >18:\n",
    "    pass"
   ]
  },
  {
   "cell_type": "code",
   "execution_count": 5,
   "metadata": {},
   "outputs": [
    {
     "name": "stdout",
     "output_type": "stream",
     "text": [
      "Enter your age: 15\n",
      "Yor are above 14\n"
     ]
    }
   ],
   "source": [
    "#ELSE STATEMENT : \n",
    "\n",
    "age = input(\"Enter your age: \")\n",
    "age = int(age)\n",
    "if age >= 14:\n",
    "    print(\"Yor are above 14\")\n",
    "else:\n",
    "    print(\"You are below 14\")"
   ]
  },
  {
   "cell_type": "code",
   "execution_count": 6,
   "metadata": {},
   "outputs": [
    {
     "name": "stdout",
     "output_type": "stream",
     "text": [
      "Guess the Number Between 1 to 30:25\n",
      "Too high\n"
     ]
    }
   ],
   "source": [
    "#IF - ELIF - ELSE:\n",
    "#EXERCISE - I \n",
    "x = 26\n",
    "x = int(x)\n",
    "guess = input(\"Guess the Number Between 1 to 30:\")\n",
    "guess = int(guess)\n",
    "if x == guess:\n",
    "    print(\"User winned the game\")\n",
    "elif(x < guess):\n",
    "    print(\"Too low\")\n",
    "else:\n",
    "    print(\"Too high\")"
   ]
  },
  {
   "cell_type": "code",
   "execution_count": 7,
   "metadata": {},
   "outputs": [
    {
     "name": "stdout",
     "output_type": "stream",
     "text": [
      "yesss !!!!!!\n"
     ]
    }
   ],
   "source": [
    "#AND, OR operators :\n",
    "#check two conditions at same time : we use and, or\n",
    "name = 'abc'\n",
    "age = 19\n",
    "#if name == 'abc' and age == 19:\n",
    "#    print(\"yesss !!!!!!\")\n",
    "#else:\n",
    "#    print(\"no !!!!!\")\n",
    "    \n",
    "name = 'abc'\n",
    "age = 19\n",
    "if name == 'abc' or age == 19:\n",
    "    print(\"yesss !!!!!!\")\n",
    "else:\n",
    "    print(\"no !!!!!\")\n",
    "    "
   ]
  },
  {
   "cell_type": "code",
   "execution_count": 8,
   "metadata": {},
   "outputs": [
    {
     "name": "stdout",
     "output_type": "stream",
     "text": [
      "Enter the name and age : harshjain,11\n",
      "You cant watch - Sorry !!\n"
     ]
    }
   ],
   "source": [
    "#EXERCISE - II \n",
    "name, age = input(\"Enter the name and age : \").split(\",\")\n",
    "age = int(age)\n",
    "if age >=10 and (name[0] == 'a' or name[0] == 'A'):\n",
    "    print(\"You can watch the movie\")\n",
    "else:\n",
    "    print(\"You cant watch - Sorry !!\")"
   ]
  },
  {
   "cell_type": "code",
   "execution_count": 9,
   "metadata": {},
   "outputs": [
    {
     "name": "stdout",
     "output_type": "stream",
     "text": [
      "Enter your age : 2\n",
      "Ticket price : Free\n"
     ]
    }
   ],
   "source": [
    "#IF - ELIF - ELSE:\n",
    "age = int(input(\"Enter your age : \"))\n",
    "if 0<age<3 : \n",
    "    print(\"Ticket price : Free\")\n",
    "elif 3<age<10:\n",
    "    print(\"Ticket price : 150RS\")\n",
    "elif 10<age<60:\n",
    "    print(\"Ticket price : 250RS\")\n",
    "else:\n",
    "    print(\"Ticket price : 200RS\")"
   ]
  },
  {
   "cell_type": "code",
   "execution_count": 10,
   "metadata": {},
   "outputs": [
    {
     "name": "stdout",
     "output_type": "stream",
     "text": [
      "Yes its there !!\n"
     ]
    }
   ],
   "source": [
    "# in KEYWORD :\n",
    "#If with in :\n",
    "name = \"harsh\"\n",
    "if 'a' in name:\n",
    "    print(\"Yes its there !!\")\n",
    "else:\n",
    "    print(\"Not there !!\")"
   ]
  },
  {
   "cell_type": "code",
   "execution_count": 11,
   "metadata": {},
   "outputs": [
    {
     "name": "stdout",
     "output_type": "stream",
     "text": [
      "No line\n"
     ]
    }
   ],
   "source": [
    "#CHECK EMPTY OR NOT : \n",
    "#IMPORTANT: \n",
    "name = \"\"\n",
    "if name:\n",
    "    print(\"Some line\")\n",
    "else:\n",
    "    print(\"No line\")"
   ]
  },
  {
   "cell_type": "code",
   "execution_count": 12,
   "metadata": {},
   "outputs": [
    {
     "name": "stdout",
     "output_type": "stream",
     "text": [
      "Hello\n",
      "Hello\n",
      "Hello\n",
      "Hello\n",
      "Hello\n",
      "Hello\n",
      "Hello\n",
      "Hello\n",
      "Hello\n",
      "Hello\n"
     ]
    }
   ],
   "source": [
    "#WHILE LOOP : \n",
    "#i = 0\n",
    "i = 1\n",
    "#while i <10:\n",
    "#    print(\"Hello\")\n",
    "#    i += 1\n",
    "while i<=10:\n",
    "    print(\"Hello\")\n",
    "    i += 1"
   ]
  },
  {
   "cell_type": "code",
   "execution_count": 13,
   "metadata": {},
   "outputs": [
    {
     "name": "stdout",
     "output_type": "stream",
     "text": [
      "55\n"
     ]
    }
   ],
   "source": [
    "#SUM PROGRAMS USING WHILE LOOP:\n",
    "#1. SUM OF 1 TO 10:\n",
    "sum = 0\n",
    "i = 1\n",
    "while i<=10:\n",
    "    sum += i\n",
    "    i += 1\n",
    "print(sum)"
   ]
  },
  {
   "cell_type": "code",
   "execution_count": 14,
   "metadata": {},
   "outputs": [
    {
     "name": "stdout",
     "output_type": "stream",
     "text": [
      "Enter the range of n natural numbers10\n",
      "55\n"
     ]
    }
   ],
   "source": [
    "#EXERCISE - III\n",
    "num = int(input(\"Enter the range of n natural numbers\"))\n",
    "sum = 0\n",
    "i = 1\n",
    "while i<=num:\n",
    "    sum += i\n",
    "    i += 1\n",
    "print(sum)"
   ]
  },
  {
   "cell_type": "code",
   "execution_count": 15,
   "metadata": {},
   "outputs": [
    {
     "name": "stdout",
     "output_type": "stream",
     "text": [
      "Enter a number : 20\n",
      "2\n"
     ]
    }
   ],
   "source": [
    "#EXERCISE - IV\n",
    "n = input(\"Enter a number : \")\n",
    "total = 0\n",
    "i = 0\n",
    "while i < len(n):\n",
    "    total += int(n[i])\n",
    "    i += 1\n",
    "print(total)\n"
   ]
  },
  {
   "cell_type": "code",
   "execution_count": 16,
   "metadata": {},
   "outputs": [
    {
     "name": "stdout",
     "output_type": "stream",
     "text": [
      "Enter the name :harshjain\n",
      "h : 2\n",
      "a : 2\n",
      "r : 1\n",
      "s : 1\n",
      "h : 2\n",
      "j : 1\n",
      "a : 2\n",
      "i : 1\n",
      "n : 1\n"
     ]
    }
   ],
   "source": [
    "#EXERCISE - V\n",
    "\n",
    "name = input(\"Enter the name :\")\n",
    "i = 0\n",
    "while i < len(name):\n",
    "    print(f\"{name[i]} : {name.count(name[i])}\")\n",
    "    i += 1"
   ]
  },
  {
   "cell_type": "code",
   "execution_count": 17,
   "metadata": {},
   "outputs": [],
   "source": [
    "#INFINITE LOOPS : \n",
    "#i = 0\n",
    "#while i <= 10:\n",
    "#    print(\"hello world\")\n",
    "\n",
    "#while True:\n",
    "#    print(\"Hello world\")"
   ]
  },
  {
   "cell_type": "code",
   "execution_count": 18,
   "metadata": {},
   "outputs": [
    {
     "name": "stdout",
     "output_type": "stream",
     "text": [
      "Hello world : 0\n",
      "Hello world : 1\n",
      "Hello world : 2\n",
      "Hello world : 3\n",
      "Hello world : 4\n",
      "Hello world : 5\n",
      "Hello world : 6\n",
      "Hello world : 7\n",
      "Hello world : 8\n",
      "Hello world : 9\n"
     ]
    }
   ],
   "source": [
    "#FOR LOOP : \n",
    "for i in range(10):\n",
    "    print(f\"Hello world : {i}\")\n",
    "    i += 1"
   ]
  },
  {
   "cell_type": "code",
   "execution_count": 19,
   "metadata": {},
   "outputs": [
    {
     "name": "stdout",
     "output_type": "stream",
     "text": [
      "55\n"
     ]
    }
   ],
   "source": [
    "#FOR LOOP EXAMPLES:\n",
    "sum = 0\n",
    "for i in range(1,11):\n",
    "    sum += i\n",
    "print(sum)\n",
    "    "
   ]
  },
  {
   "cell_type": "code",
   "execution_count": 20,
   "metadata": {},
   "outputs": [
    {
     "name": "stdout",
     "output_type": "stream",
     "text": [
      "Enter the number : 10\n",
      "55\n"
     ]
    }
   ],
   "source": [
    "n = int(input(\"Enter the number : \"))\n",
    "total = 0\n",
    "for i in range(1,n+1):\n",
    "    total += i\n",
    "print(total)"
   ]
  },
  {
   "cell_type": "code",
   "execution_count": 21,
   "metadata": {},
   "outputs": [
    {
     "name": "stdout",
     "output_type": "stream",
     "text": [
      "Entee the number:10\n",
      "1\n"
     ]
    }
   ],
   "source": [
    "#FOR LOOP EXAMPLE 2:\n",
    "count = 0\n",
    "n = input(\"Entee the number:\")\n",
    "for i in range(len(n)):\n",
    "    count += int(n[i])\n",
    "print(count)"
   ]
  },
  {
   "cell_type": "code",
   "execution_count": 22,
   "metadata": {},
   "outputs": [
    {
     "name": "stdout",
     "output_type": "stream",
     "text": [
      "Enter the name : harshjain\n",
      "h : 2 \n",
      "a : 2 \n",
      "r : 1 \n",
      "s : 1 \n",
      "j : 1 \n",
      "i : 1 \n",
      "n : 1 \n"
     ]
    }
   ],
   "source": [
    "#FOR LOOP EXAMPLE 3:\n",
    "#IMPORTANT\n",
    "name = input(\"Enter the name : \")\n",
    "temp = \"\"\n",
    "for i in range(len(name)):\n",
    "    if name[i] not in temp:\n",
    "        print(f\"{name[i]} : {name.count(name[i])} \")\n",
    "        temp += name[i]"
   ]
  },
  {
   "cell_type": "code",
   "execution_count": 23,
   "metadata": {},
   "outputs": [
    {
     "name": "stdout",
     "output_type": "stream",
     "text": [
      "1\n",
      "2\n",
      "3\n",
      "4\n",
      "6\n",
      "7\n",
      "8\n",
      "9\n",
      "10\n"
     ]
    }
   ],
   "source": [
    "#BREAK AND CONTINUE : \n",
    "#for i in range(1,11):\n",
    "#    print(i)\n",
    "#    if(i == 5):\n",
    "#        break\n",
    "\n",
    "for i in range(1, 11):\n",
    "    if i == 5:\n",
    "        continue\n",
    "    print(i)"
   ]
  },
  {
   "cell_type": "code",
   "execution_count": 24,
   "metadata": {},
   "outputs": [
    {
     "name": "stdout",
     "output_type": "stream",
     "text": [
      "Guess a number between 1 and 10043\n",
      "You Win, and you guessed this number in 1 times \n"
     ]
    }
   ],
   "source": [
    "#GUESS THE NUMBER GAME :\n",
    "\n",
    "winning_number = 43\n",
    "guess = 1\n",
    "number = int(input(\"Guess a number between 1 and 100\"))\n",
    "game_over = False\n",
    "while not game_over:\n",
    "    if number == winning_number:\n",
    "        print(f\"You Win, and you guessed this number in {guess} times \")\n",
    "        game_over = True\n",
    "    else:\n",
    "        if number < winning_number:\n",
    "            print(\"Too Low\")\n",
    "            guess += 1\n",
    "            number = int(input(\"Guess again : \"))\n",
    "        else:\n",
    "            print(\"Too high\")\n",
    "            guess += 1\n",
    "            number = int(input(\"Guess again : \"))"
   ]
  },
  {
   "cell_type": "code",
   "execution_count": 25,
   "metadata": {},
   "outputs": [
    {
     "name": "stdout",
     "output_type": "stream",
     "text": [
      "Guess a number between 1 and 10032\n",
      "Too Low\n",
      "Guess again : 45\n",
      "Too high\n",
      "Guess again : 44\n",
      "Too high\n",
      "Guess again : 43\n",
      "You Win, and you guessed this number in 4 times \n"
     ]
    }
   ],
   "source": [
    "#DRY PRINCIPLE : DONT REPEAT YOUR SELF \n",
    "\n",
    "#GUESS THE NUMBER GAME :\n",
    "\n",
    "winning_number = 43\n",
    "guess = 1\n",
    "number = int(input(\"Guess a number between 1 and 100\"))\n",
    "game_over = False\n",
    "while not game_over:\n",
    "    if number == winning_number:\n",
    "        print(f\"You Win, and you guessed this number in {guess} times \")\n",
    "        game_over = True\n",
    "    else:\n",
    "        if number < winning_number:\n",
    "            print(\"Too Low\")\n",
    "        else:\n",
    "            print(\"Too high\")\n",
    "        \n",
    "        guess += 1\n",
    "        number = int(input(\"Guess again : \"))\n"
   ]
  },
  {
   "cell_type": "code",
   "execution_count": 26,
   "metadata": {},
   "outputs": [
    {
     "name": "stdout",
     "output_type": "stream",
     "text": [
      "Guess a number between 1 and 10050\n",
      "Too high\n",
      "Guess again : 40\n",
      "Too Low\n",
      "Guess again : 45\n",
      "Too high\n",
      "Guess again : 44\n",
      "Too high\n",
      "Guess again : 43\n",
      "Too high\n",
      "Guess again : 42\n",
      "You Win, and you guessed this number in 6 times \n"
     ]
    }
   ],
   "source": [
    "#DRY PRINCIPLE : DONT REPEAT YOUR SELF \n",
    "\n",
    "#GUESS THE NUMBER GAME :\n",
    "\n",
    "import random\n",
    "winning_number = random.randint(1, 100)\n",
    "guess = 1\n",
    "number = int(input(\"Guess a number between 1 and 100\"))\n",
    "game_over = False\n",
    "while not game_over:\n",
    "    if number == winning_number:\n",
    "        print(f\"You Win, and you guessed this number in {guess} times \")\n",
    "        game_over = True\n",
    "    else:\n",
    "        if number < winning_number:\n",
    "            print(\"Too Low\")\n",
    "        else:\n",
    "            print(\"Too high\")\n",
    "        \n",
    "        guess += 1\n",
    "        number = int(input(\"Guess again : \"))\n"
   ]
  },
  {
   "cell_type": "code",
   "execution_count": 28,
   "metadata": {},
   "outputs": [
    {
     "name": "stdout",
     "output_type": "stream",
     "text": [
      "10\n",
      "9\n",
      "8\n",
      "7\n",
      "6\n",
      "5\n",
      "4\n",
      "3\n",
      "2\n",
      "1\n"
     ]
    }
   ],
   "source": [
    "#RANGE FUNCTION WITH STEP :\n",
    "#for i in range(1,11,2):\n",
    "#    print(i)\n",
    "#PRINT THE NUMBERS IN REVERSE :\n",
    "\n",
    "for i in range(10,0,-1):\n",
    "    print(i)"
   ]
  },
  {
   "cell_type": "code",
   "execution_count": 33,
   "metadata": {},
   "outputs": [
    {
     "name": "stdout",
     "output_type": "stream",
     "text": [
      "Enter a number : 2345\n",
      "14\n"
     ]
    }
   ],
   "source": [
    "#FOR LOOP AND STRINGS : \" EASIEST WAY \"\n",
    "#name = \"harshjain\"\n",
    "#for i in name:\n",
    "#    print(i)\n",
    "    \n",
    "NUM = input(\"Enter a number : \")\n",
    "total = 0\n",
    "for i in NUM:\n",
    "    total += int(i)\n",
    "print(total)"
   ]
  },
  {
   "cell_type": "code",
   "execution_count": 35,
   "metadata": {},
   "outputs": [
    {
     "name": "stdout",
     "output_type": "stream",
     "text": [
      "                            END OF PYTHON CHAPTER_3                     \n"
     ]
    }
   ],
   "source": [
    "print(\"                            END OF PYTHON CHAPTER_3                     \")"
   ]
  },
  {
   "cell_type": "code",
   "execution_count": null,
   "metadata": {},
   "outputs": [],
   "source": []
  }
 ],
 "metadata": {
  "kernelspec": {
   "display_name": "Python 3",
   "language": "python",
   "name": "python3"
  },
  "language_info": {
   "codemirror_mode": {
    "name": "ipython",
    "version": 3
   },
   "file_extension": ".py",
   "mimetype": "text/x-python",
   "name": "python",
   "nbconvert_exporter": "python",
   "pygments_lexer": "ipython3",
   "version": "3.7.1"
  }
 },
 "nbformat": 4,
 "nbformat_minor": 2
}
