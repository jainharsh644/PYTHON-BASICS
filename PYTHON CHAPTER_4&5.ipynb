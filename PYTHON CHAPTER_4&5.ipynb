{
 "cells": [
  {
   "cell_type": "code",
   "execution_count": 1,
   "metadata": {},
   "outputs": [
    {
     "name": "stdout",
     "output_type": "stream",
     "text": [
      "Enter the number a :2\n",
      "Enter the number b :2\n",
      "22\n"
     ]
    }
   ],
   "source": [
    "#FUNCTIONS INTRO : WE WILL ADD TWO NUMBERS AND STRINGS TO \n",
    "#name = \"Harsh\"\n",
    "#print(len(name))\n",
    "def add(num1,num2):     #function takes arguments:\n",
    "    return num1+num2\n",
    "#total = add(5,4)\n",
    "#print(total)\n",
    "\n",
    "a = input(\"Enter the number a :\")\n",
    "b = input(\"Enter the number b :\")\n",
    "total = add(a,b)\n",
    "print(total)"
   ]
  },
  {
   "cell_type": "code",
   "execution_count": 2,
   "metadata": {},
   "outputs": [
    {
     "name": "stdout",
     "output_type": "stream",
     "text": [
      "15\n"
     ]
    }
   ],
   "source": [
    "#PRINT VS. RETURN\n",
    "def add_three(a,b,c):\n",
    "    #return a+b+c #DOESN'T DISPLAY THE OUTPUT \n",
    "    print(a+b+c) #DISPLAYS THE OUTPUT\n",
    "add_three(5,5,5)"
   ]
  },
  {
   "cell_type": "code",
   "execution_count": 3,
   "metadata": {},
   "outputs": [
    {
     "name": "stdout",
     "output_type": "stream",
     "text": [
      "Enter the name :harsh\n",
      "h\n"
     ]
    }
   ],
   "source": [
    "#FUNCTION PRACTICE:\n",
    "nme = input(\"Enter the name :\")\n",
    "def name(a):\n",
    "    print(a[-1])\n",
    "\n",
    "name(nme)"
   ]
  },
  {
   "cell_type": "code",
   "execution_count": 4,
   "metadata": {},
   "outputs": [
    {
     "name": "stdout",
     "output_type": "stream",
     "text": [
      "Enter the number :5\n"
     ]
    },
    {
     "data": {
      "text/plain": [
       "'odd'"
      ]
     },
     "execution_count": 4,
     "metadata": {},
     "output_type": "execute_result"
    }
   ],
   "source": [
    "#odd or even :\n",
    "num = int(input(\"Enter the number :\"))\n",
    "def odd_even(n):\n",
    "    if n%2==0:\n",
    "        return \"even\"\n",
    "    return \"odd\"\n",
    "odd_even(num)\n"
   ]
  },
  {
   "cell_type": "code",
   "execution_count": 5,
   "metadata": {},
   "outputs": [
    {
     "name": "stdout",
     "output_type": "stream",
     "text": [
      "Enter the even number2\n"
     ]
    },
    {
     "data": {
      "text/plain": [
       "True"
      ]
     },
     "execution_count": 5,
     "metadata": {},
     "output_type": "execute_result"
    }
   ],
   "source": [
    "#is_even :\n",
    "n = int(input(\"Enter the even number\"))\n",
    "def is_even(num):        #num is parameter\n",
    "    return num%2==0\n",
    "#    if num%2==0:\n",
    "#        return True\n",
    "#    return False\n",
    "is_even(n)        #n is argument"
   ]
  },
  {
   "cell_type": "code",
   "execution_count": 7,
   "metadata": {},
   "outputs": [
    {
     "name": "stdout",
     "output_type": "stream",
     "text": [
      "Enter the two numbers : 2\n",
      "Enter the two numbers : 3\n"
     ]
    },
    {
     "data": {
      "text/plain": [
       "'b is greater'"
      ]
     },
     "execution_count": 7,
     "metadata": {},
     "output_type": "execute_result"
    }
   ],
   "source": [
    "#EXERCISE - I:\n",
    "num1 = int(input(\"Enter the two numbers : \"))\n",
    "num2 = int(input(\"Enter the two numbers : \"))\n",
    "def greater(a,b):\n",
    "    if a > b:\n",
    "        return \"a is greater\"\n",
    "    return \"b is greater\"\n",
    "greater(num1,num2)"
   ]
  },
  {
   "cell_type": "code",
   "execution_count": 8,
   "metadata": {},
   "outputs": [
    {
     "name": "stdout",
     "output_type": "stream",
     "text": [
      "Enter the two numbers : 2\n",
      "Enter the two numbers : 3\n",
      "Enter the two numbers : 4\n"
     ]
    },
    {
     "data": {
      "text/plain": [
       "'n3 is greater'"
      ]
     },
     "execution_count": 8,
     "metadata": {},
     "output_type": "execute_result"
    }
   ],
   "source": [
    "#greatest of 3 numbers :\n",
    "a = int(input(\"Enter the two numbers : \"))\n",
    "b = int(input(\"Enter the two numbers : \"))\n",
    "c = int(input(\"Enter the two numbers : \"))\n",
    "def greatest(n1,n2,n3):\n",
    "    if n1>n3 and n1>n2:\n",
    "        return \"n1 is greater\"\n",
    "    elif n2>n1 and n2>n3:\n",
    "        return \"n2 is greater\"\n",
    "    else:\n",
    "        return \"n3 is greater\"\n",
    "greatest(a,b,c)"
   ]
  },
  {
   "cell_type": "code",
   "execution_count": 9,
   "metadata": {},
   "outputs": [
    {
     "name": "stdout",
     "output_type": "stream",
     "text": [
      "Enter the palindome string : naman\n"
     ]
    },
    {
     "data": {
      "text/plain": [
       "'Palindrome'"
      ]
     },
     "execution_count": 9,
     "metadata": {},
     "output_type": "execute_result"
    }
   ],
   "source": [
    "#EXERCISE - II :\n",
    "input_string = input(\"Enter the palindome string : \")\n",
    "def palindrome(nme):\n",
    "    if nme == input_string[::-1] :\n",
    "        return \"Palindrome\"\n",
    "    return \"not a palindrome\"\n",
    "\n",
    "palindrome(input_string)\n",
    "    "
   ]
  },
  {
   "cell_type": "code",
   "execution_count": 10,
   "metadata": {},
   "outputs": [
    {
     "name": "stdout",
     "output_type": "stream",
     "text": [
      "False\n",
      "True\n"
     ]
    }
   ],
   "source": [
    "#PALINDROME IN TWO LINES:\n",
    "\n",
    "def is_palindrome(word):\n",
    "    return word == word[::-1]\n",
    "print(is_palindrome(\"harsh\"))\n",
    "print(is_palindrome(\"naman\"))"
   ]
  },
  {
   "cell_type": "code",
   "execution_count": 11,
   "metadata": {},
   "outputs": [
    {
     "name": "stdout",
     "output_type": "stream",
     "text": [
      "0 1 1 2 3 5 8 13 21 34 55 89 144 233 377 610 987 1597 2584 4181 "
     ]
    }
   ],
   "source": [
    "#FIBINACCI SERIES :\n",
    "def fibonacci_seq(n):\n",
    "    a = 0 #first number\n",
    "    b = 1 #second number\n",
    "    if n==1:\n",
    "        print(a)\n",
    "    elif n==2:\n",
    "        print(a, b)\n",
    "    else:\n",
    "        print(a, b, end = \" \")\n",
    "        for i in range(n-2):\n",
    "            c = a + b  #c = 1   #c = 2\n",
    "            a = b  #here a = 1  #a = 1\n",
    "            b = c  #here b = 1  #b = 2\n",
    "            print(b, end = \" \") #1  #2\n",
    "fibonacci_seq(20)\n",
    "            \n",
    "        "
   ]
  },
  {
   "cell_type": "code",
   "execution_count": 12,
   "metadata": {},
   "outputs": [
    {
     "name": "stdout",
     "output_type": "stream",
     "text": [
      "Your name1 is harsh\n",
      "Your last1 is jain\n",
      "Your age is 19\n"
     ]
    }
   ],
   "source": [
    "#DEFAULT PARAMETERS :\n",
    "def user_info(name1, last1, age = 23):      #default value of age is 23\n",
    "    print(f\"Your name1 is {name1}\")\n",
    "    print(f\"Your last1 is {last1}\")\n",
    "    print(f\"Your age is {age}\")\n",
    "    \n",
    "user_info('harsh', 'jain', '19') #here 19 overrides the value 23\n",
    "\n",
    "#default parameter must be placed in_ the last of all parameters:"
   ]
  },
  {
   "cell_type": "code",
   "execution_count": 13,
   "metadata": {},
   "outputs": [
    {
     "name": "stdout",
     "output_type": "stream",
     "text": [
      "5\n",
      "4\n",
      "4\n"
     ]
    }
   ],
   "source": [
    "#SCOPE OF VARIABLES INSIDE AND OUTSIDE FUNCTIONS:\n",
    "x = 5              # \" GLOBAL VARIABLE \"\n",
    "def func():\n",
    "    global x\n",
    "    x = 4          #the x cant be used outside this func() # \" LOCAL VARIABLE \"\n",
    "    return x\n",
    "print(x)           #until you dont call the function it displays the 1st global variable value\n",
    "print(func())\n",
    "print(x)"
   ]
  },
  {
   "cell_type": "markdown",
   "metadata": {},
   "source": [
    "CHAPTER-5"
   ]
  },
  {
   "cell_type": "code",
   "execution_count": 14,
   "metadata": {},
   "outputs": [
    {
     "name": "stdout",
     "output_type": "stream",
     "text": [
      "[1, 2, 3, 4]\n",
      "2\n",
      "['word1', 'word2', 'word3']\n",
      "['word1', 'word2']\n",
      "[None, 2.3, 'harsh', 2, 1]\n",
      "2.3\n",
      "[1, 'three', 'four']\n"
     ]
    }
   ],
   "source": [
    "#INTRODUCTION TO LIST : \" IT IS ORDERED COLLECTION OF ITEMS \"\n",
    "#CAN STORE ANYTHING IN LIST : INT, FLOAT, STRING\n",
    "\n",
    "numbers = [1, 2, 3, 4]\n",
    "print(numbers)\n",
    "print(numbers[1])\n",
    "\n",
    "words = [\"word1\", 'word2', \"word3\"]\n",
    "print(words)\n",
    "print(words[0:2])\n",
    "\n",
    "mixed = [1, 2, \"harsh\", 2.3, None]\n",
    "print(mixed[::-1])\n",
    "print(mixed[-2])\n",
    "\n",
    "mixed[1:] = \"word4\" #imp\n",
    "mixed[1:] = [\"three\", \"four\"]\n",
    "print(mixed)"
   ]
  },
  {
   "cell_type": "code",
   "execution_count": 15,
   "metadata": {},
   "outputs": [
    {
     "name": "stdout",
     "output_type": "stream",
     "text": [
      "[1, 2, 3, 4, 5]\n"
     ]
    }
   ],
   "source": [
    "#ADD DATA INTO LIST :\n",
    "list1 = [1,2,3,4]\n",
    "list1.append(5)\n",
    "print(list1)"
   ]
  },
  {
   "cell_type": "code",
   "execution_count": 16,
   "metadata": {},
   "outputs": [
    {
     "name": "stdout",
     "output_type": "stream",
     "text": [
      "['grapes', 'mango', 'apple']\n",
      "['grapes', 'mango', 'apple', 'grapes', 'banana']\n",
      "['grapes', 'banana', 'grapes', 'mango', 'apple']\n",
      "['grapes', 'banana', 'grapes', 'mango', 'apple', ['grapes', 'mango', 'apple']]\n",
      "\t\t\t\tDELETION\n",
      "['orange', 'apple', 'pear', 'kiwi']\n",
      "['orange', 'apple', 'kiwi']\n",
      "['orange', 'apple']\n"
     ]
    }
   ],
   "source": [
    "#MORE METHODS TO ADD DATA INTO LIST :\n",
    "fruits = [\"mango\", \"apple\"]\n",
    "fruits.insert(0, \"grapes\")     #insert(position, value)\n",
    "print(fruits)\n",
    "\n",
    "fruits1 = [\"grapes\", \"banana\"]  #concatenation of lists\n",
    "fruit = fruits + fruits1\n",
    "print(fruit)\n",
    "\n",
    "fruits1.extend(fruits)          #extend two lists\n",
    "print(fruits1)\n",
    "\n",
    "fruits1.append(fruits)          #appending two lists\n",
    "print(fruits1)\n",
    "\n",
    "#DELETE DATA FROM LIST :\n",
    "\n",
    "print(\"\\t\\t\\t\\tDELETION\")\n",
    "\n",
    "fruits3 = ['orange', 'apple', 'pear', 'banana', 'kiwi']\n",
    "fruits3.pop(3)          #pop method\n",
    "print(fruits3)\n",
    "\n",
    "del fruits3[2]          #del method\n",
    "print(fruits3)\n",
    "\n",
    "fruits3.remove(\"kiwi\")  #remove method\n",
    "print(fruits3)"
   ]
  },
  {
   "cell_type": "code",
   "execution_count": 17,
   "metadata": {},
   "outputs": [
    {
     "name": "stdout",
     "output_type": "stream",
     "text": [
      "apple is present\n"
     ]
    }
   ],
   "source": [
    "#IN keyword with list :\n",
    "fruits4 = ['orange', 'apple', 'pear', 'banana', 'kiwi']\n",
    "if 'apple' in fruits4:\n",
    "    print(\"apple is present\")\n",
    "else:\n",
    "    print(\"apple is not present\")"
   ]
  },
  {
   "cell_type": "code",
   "execution_count": 18,
   "metadata": {},
   "outputs": [
    {
     "name": "stdout",
     "output_type": "stream",
     "text": [
      "1\n",
      "[3, 5, 1, 2]\n",
      "[1, 2, 3, 5]\n",
      "[3, 5, 1, 2]\n"
     ]
    }
   ],
   "source": [
    "#SOME MORE LIST METHODS :\n",
    "fruits5 = ['orange', 'apple', 'pear', 'banana', 'kiwi']\n",
    "print(fruits5.count('apple'))   #COUNT METHOD\n",
    "num = [3, 5, 1 , 2]\n",
    "#num.sort()\n",
    "print(num)\n",
    "print(sorted(num))\n",
    "#num.clear()\n",
    "num_copy = num.copy()\n",
    "print(num_copy)\n",
    "#print(num)"
   ]
  },
  {
   "cell_type": "code",
   "execution_count": 19,
   "metadata": {},
   "outputs": [
    {
     "name": "stdout",
     "output_type": "stream",
     "text": [
      "True\n",
      "False\n"
     ]
    }
   ],
   "source": [
    "#is VS. equals :\n",
    "fruits6 = ['orange', 'apple', 'pear']\n",
    "fruits7 = ['banana', 'kiwi', 'apple', 'banana']\n",
    "fruits8 = ['orange', 'apple', 'pear']\n",
    "print(fruits6==fruits8) #values are same\n",
    "print(fruits6 is fruits8) #it checks whether our values are in same memory or not "
   ]
  },
  {
   "cell_type": "code",
   "execution_count": 20,
   "metadata": {},
   "outputs": [
    {
     "name": "stdout",
     "output_type": "stream",
     "text": [
      "['harsh', '19']\n"
     ]
    },
    {
     "data": {
      "text/plain": [
       "'harsh,19'"
      ]
     },
     "execution_count": 20,
     "metadata": {},
     "output_type": "execute_result"
    }
   ],
   "source": [
    "#JOIN AND SPLIT METHODS IN PYTHON :\n",
    "#SPLIT : Convert string to list\n",
    "user_info = \"harsh 19\".split()\n",
    "print(user_info)\n",
    "\n",
    "#JOIN : Convert list to string\n",
    "user_info1 = ['harsh', '19']\n",
    "','.join(user_info1)"
   ]
  },
  {
   "cell_type": "code",
   "execution_count": 21,
   "metadata": {},
   "outputs": [],
   "source": [
    "#LIST VS. ARRAY :\n",
    "\n",
    "# 1. In python we use numpy arrays instead of normal arrays.\n",
    "# 2. List - store any data i.e., FLEXIBLE.\n",
    "# 3. numpy arrays are binded with C - libraries.\n",
    "# 4. javascript array = python List - hence flexible.\n"
   ]
  },
  {
   "cell_type": "code",
   "execution_count": 24,
   "metadata": {},
   "outputs": [],
   "source": [
    "#LIST VS. STRING : \n",
    "#1. list are mutable(can be changed) where string are immutable(cant be changed)."
   ]
  },
  {
   "cell_type": "code",
   "execution_count": 27,
   "metadata": {},
   "outputs": [
    {
     "name": "stdout",
     "output_type": "stream",
     "text": [
      "harsh\n",
      "jain\n",
      "krishna\n",
      "rishabhnath\n",
      "harsh\n",
      "jain\n",
      "krishna\n",
      "rishabhnath\n"
     ]
    }
   ],
   "source": [
    "#LOOPING IN LIST :\n",
    "fruits = ['harsh', 'jain', 'krishna', 'rishabhnath']\n",
    "for i in fruits:\n",
    "    print(i)\n",
    "    \n",
    "i = 0 \n",
    "while i<len(fruits):\n",
    "    print(fruits[i])\n",
    "    i += 1"
   ]
  },
  {
   "cell_type": "code",
   "execution_count": 37,
   "metadata": {},
   "outputs": [
    {
     "name": "stdout",
     "output_type": "stream",
     "text": [
      "1\n",
      "2\n",
      "3\n",
      "4\n",
      "5\n",
      "6\n",
      "7\n",
      "8\n",
      "9\n"
     ]
    }
   ],
   "source": [
    "#LIST INSIDE LIST:\n",
    "matrix = [[1,2,3], [4,5,6], [7,8,9]]\n",
    "#print(matrix[1])\n",
    "#print(matrix[0][1])\n",
    "for i in matrix:\n",
    "    for j in i:\n",
    "        print(j)\n"
   ]
  },
  {
   "cell_type": "code",
   "execution_count": 51,
   "metadata": {},
   "outputs": [
    {
     "name": "stdout",
     "output_type": "stream",
     "text": [
      "[1, 2, 3, 4, 5, 6, 7, 8, 9, 10]\n",
      "[1, 2, 3, 4, 5, 6, 7, 8, 9]\n",
      "7\n"
     ]
    },
    {
     "data": {
      "text/plain": [
       "[-1, -2, -3, -4, -5, -6, -7, -1]"
      ]
     },
     "execution_count": 51,
     "metadata": {},
     "output_type": "execute_result"
    }
   ],
   "source": [
    "#MORE ABOUT LIST :\n",
    "# 1. generate lists with range functions:\n",
    "# 2. something more about pop methods:\n",
    "# 3. index method:\n",
    "#4. pass list to a function:\n",
    "\n",
    "num = list(range(1, 11))  #---- range generates a list \n",
    "print(num)\n",
    "num.pop()\n",
    "print(num)\n",
    "num.index(9)\n",
    "\n",
    "new = [1,2,3,4,5,6,7,1]\n",
    "print(new.index(1,3))\n",
    "\n",
    "def negative_list(l):\n",
    "    neg = []\n",
    "    for i in l:\n",
    "        neg.append(-i)\n",
    "    return neg\n",
    "\n",
    "negative_list(new)"
   ]
  },
  {
   "cell_type": "code",
   "execution_count": 52,
   "metadata": {},
   "outputs": [
    {
     "data": {
      "text/plain": [
       "[1, 4, 9, 16]"
      ]
     },
     "execution_count": 52,
     "metadata": {},
     "output_type": "execute_result"
    }
   ],
   "source": [
    "#EXERCISE - I:\n",
    "num = [1,2,3,4]\n",
    "\n",
    "def square_list(l):\n",
    "    new = []\n",
    "    for i in l:\n",
    "        new.append(i*i)\n",
    "    return new\n",
    "square_list(num)"
   ]
  },
  {
   "cell_type": "code",
   "execution_count": 70,
   "metadata": {},
   "outputs": [
    {
     "data": {
      "text/plain": [
       "[7, 5, 3, 1]"
      ]
     },
     "execution_count": 70,
     "metadata": {},
     "output_type": "execute_result"
    }
   ],
   "source": [
    "#EXERCISE - II: REVERSING A LIST USING APPEND AND POP\n",
    "new = [1,3,5,7]\n",
    "def reverse_(l):\n",
    "    new1 = []\n",
    "    for i in range(1, len(l)+1):\n",
    "        pop_item = l.pop()\n",
    "        new1.append(pop_item)\n",
    "    return new1\n",
    "\n",
    "reverse_(new)"
   ]
  },
  {
   "cell_type": "code",
   "execution_count": 75,
   "metadata": {},
   "outputs": [
    {
     "data": {
      "text/plain": [
       "['cba', 'fed', 'ihg']"
      ]
     },
     "execution_count": 75,
     "metadata": {},
     "output_type": "execute_result"
    }
   ],
   "source": [
    "#EXERCISE -III: REVERSE EACH ELEMENT OF LIST \n",
    "list1 = ['abc', 'def', 'ghi']    \n",
    "def double_rev(l):\n",
    "    new = []\n",
    "    for i in l:\n",
    "        new.append(i[::-1])\n",
    "    return new\n",
    "\n",
    "double_rev(list1)"
   ]
  },
  {
   "cell_type": "code",
   "execution_count": 84,
   "metadata": {},
   "outputs": [
    {
     "data": {
      "text/plain": [
       "[[1, 3, 5, 7], [2, 4, 6, 8]]"
      ]
     },
     "execution_count": 84,
     "metadata": {},
     "output_type": "execute_result"
    }
   ],
   "source": [
    "#EXERCISE - IV:\n",
    "list1 = [1,2,3,4,5,6,7,8]\n",
    "def list_add(l1,l2):\n",
    "    l3 = [l1, l2]\n",
    "    return l3\n",
    "\n",
    "def filter_(l):\n",
    "    listo = []\n",
    "    liste = []\n",
    "    for i in l:\n",
    "        if i%2==0:\n",
    "            liste.append(i)\n",
    "        else:\n",
    "            listo.append(i)\n",
    "    return list_add(listo, liste)\n",
    "\n",
    "filter_(list1)\n",
    "    "
   ]
  },
  {
   "cell_type": "code",
   "execution_count": 86,
   "metadata": {},
   "outputs": [
    {
     "data": {
      "text/plain": [
       "[1, 2, 3]"
      ]
     },
     "execution_count": 86,
     "metadata": {},
     "output_type": "execute_result"
    }
   ],
   "source": [
    "#EXERCISE -V :\n",
    "list1 = [1,2,3,4]\n",
    "list2 = [1,2,3,6]\n",
    "\n",
    "def lists(l1, l2):\n",
    "    new = []\n",
    "    for i in l1:\n",
    "        for j in l2:\n",
    "            if i == j:\n",
    "                new.append(i)\n",
    "    return new\n",
    "\n",
    "lists(list1, list2)"
   ]
  },
  {
   "cell_type": "code",
   "execution_count": 90,
   "metadata": {},
   "outputs": [
    {
     "name": "stdout",
     "output_type": "stream",
     "text": [
      "2\n",
      "60\n"
     ]
    }
   ],
   "source": [
    "#MIN AND MAX FUNCTIONS :\n",
    "\n",
    "num = [2,60,6]\n",
    "print(min(num))\n",
    "print(max(num))"
   ]
  },
  {
   "cell_type": "code",
   "execution_count": 91,
   "metadata": {},
   "outputs": [
    {
     "data": {
      "text/plain": [
       "9"
      ]
     },
     "execution_count": 91,
     "metadata": {},
     "output_type": "execute_result"
    }
   ],
   "source": [
    "num = [2,10,11]\n",
    "\n",
    "def max_min(l):\n",
    "    n = max(l) - min(l)\n",
    "    return n \n",
    "max_min(num)\n",
    "    "
   ]
  },
  {
   "cell_type": "code",
   "execution_count": 97,
   "metadata": {},
   "outputs": [
    {
     "data": {
      "text/plain": [
       "2"
      ]
     },
     "execution_count": 97,
     "metadata": {},
     "output_type": "execute_result"
    }
   ],
   "source": [
    "#EXERCISE - VI:\n",
    "inp = [1,2,3,[1,2],[3,4]]\n",
    "def op(l):\n",
    "    count = 0\n",
    "    for i in l:\n",
    "        if type(i) == list:\n",
    "            count += 1\n",
    "    return count\n",
    "op(inp)\n",
    "    "
   ]
  },
  {
   "cell_type": "code",
   "execution_count": 99,
   "metadata": {},
   "outputs": [
    {
     "name": "stdout",
     "output_type": "stream",
     "text": [
      "\t\t\tEND OF CHAPTER 4&5\n"
     ]
    }
   ],
   "source": [
    "print(\"\\t\\t\\tEND OF CHAPTER 4&5\")"
   ]
  },
  {
   "cell_type": "code",
   "execution_count": null,
   "metadata": {},
   "outputs": [],
   "source": []
  }
 ],
 "metadata": {
  "kernelspec": {
   "display_name": "Python 3",
   "language": "python",
   "name": "python3"
  },
  "language_info": {
   "codemirror_mode": {
    "name": "ipython",
    "version": 3
   },
   "file_extension": ".py",
   "mimetype": "text/x-python",
   "name": "python",
   "nbconvert_exporter": "python",
   "pygments_lexer": "ipython3",
   "version": "3.7.1"
  }
 },
 "nbformat": 4,
 "nbformat_minor": 2
}
