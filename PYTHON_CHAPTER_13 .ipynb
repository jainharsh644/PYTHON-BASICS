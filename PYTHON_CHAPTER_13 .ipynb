{
 "cells": [
  {
   "cell_type": "code",
   "execution_count": 1,
   "metadata": {},
   "outputs": [
    {
     "name": "stdout",
     "output_type": "stream",
     "text": [
      "\t\t\tSTART OF CHAPTER 13\n"
     ]
    }
   ],
   "source": [
    "print(\"\\t\\t\\tSTART OF CHAPTER 13\")"
   ]
  },
  {
   "cell_type": "code",
   "execution_count": 2,
   "metadata": {},
   "outputs": [
    {
     "name": "stdout",
     "output_type": "stream",
     "text": [
      "0 ----> abc\n",
      "1 ----> abcdef\n",
      "2 ----> harshjain\n",
      "0 ----> abc\n",
      "1 ----> abcdef\n",
      "2 ----> harshjain\n",
      "2\n"
     ]
    },
    {
     "data": {
      "text/plain": [
       "2"
      ]
     },
     "execution_count": 2,
     "metadata": {},
     "output_type": "execute_result"
    }
   ],
   "source": [
    "#ENUMERATE FUNTION IN PYTHON :\n",
    "#Its used with for loop to track position of our item in iterations.\n",
    "\n",
    "#without enumerate function : \n",
    "names = ['abc', 'abcdef', 'harshjain']\n",
    "pos = 0\n",
    "for name in names:\n",
    "    print(f\"{pos} ----> {name}\")\n",
    "    pos += 1\n",
    "\n",
    "#same logic with enumerate function : \n",
    "for pos, name in enumerate(names):\n",
    "        print(f\"{pos} ----> {name}\")\n",
    "        \n",
    "#Exercise - I\n",
    "def funct(l, s):\n",
    "    if s in l:\n",
    "        print(f\"{pos}\")\n",
    "    return -1\n",
    "funct(names, 'harshjain')   \n",
    "\n",
    "#using enumerate fn :\n",
    "def find_pos(l, target):\n",
    "    for pos, name in enumerate(l):\n",
    "        if name == target:\n",
    "            return pos\n",
    "    return -1\n",
    "find_pos(names, 'harshjain')\n",
    "\n",
    "    "
   ]
  },
  {
   "cell_type": "code",
   "execution_count": 3,
   "metadata": {},
   "outputs": [
    {
     "name": "stdout",
     "output_type": "stream",
     "text": [
      "[1, 4, 9, 16]\n",
      "[1, 4, 9, 16]\n",
      "[1, 4, 9, 16]\n",
      "3\n",
      "4\n",
      "5\n"
     ]
    }
   ],
   "source": [
    "#MAP FUNCTION :\n",
    "num = [1,2,3,4]\n",
    "\n",
    "def square(a):\n",
    "    return a**2\n",
    "\n",
    "new_list = []\n",
    "for n in num:\n",
    "    new_list.append(square(n))\n",
    "print(new_list)\n",
    "\n",
    "\n",
    "#using lambda function and MAP fn :\n",
    "squares = list(map(lambda a:a**2, num))\n",
    "print(squares)\n",
    "\n",
    "#list comp :\n",
    "squares_new = [i**2 for i in num]\n",
    "print(squares_new)\n",
    "\n",
    "names = ['abc', 'abcd', 'abcde']\n",
    "length = map(len, names)\n",
    "for i in length:\n",
    "    print(i)\n",
    "for j in length:\n",
    "    print(j)\n",
    "    \n",
    "#we can iterate a map object only ONCE."
   ]
  },
  {
   "cell_type": "code",
   "execution_count": 4,
   "metadata": {},
   "outputs": [
    {
     "name": "stdout",
     "output_type": "stream",
     "text": [
      "(4, 2, 6, 8, 10)\n",
      "(4, 2, 6, 8, 10)\n",
      "4\n",
      "2\n",
      "6\n",
      "8\n",
      "10\n"
     ]
    }
   ],
   "source": [
    "#FILTER FUNCTION :\n",
    "def is_even(a):\n",
    "    return a%2==0\n",
    "is_even(10)\n",
    "\n",
    "nums = [3,4,2,1,5,6,9,8,10]\n",
    "#filter all the even no.\n",
    "def even(l):\n",
    "    evens = []\n",
    "    for i in l:\n",
    "        if i%2 == 0:\n",
    "            evens.append(i)\n",
    "    return evens\n",
    "even(nums)\n",
    "\n",
    "#above logic using filter fn :\n",
    "evens1 = tuple(filter(is_even, nums))\n",
    "print(evens1)\n",
    "\n",
    "#above logic using filter fn and lambda:\n",
    "evens1 = tuple(filter(lambda a:a%2==0, nums))\n",
    "print(evens1)\n",
    "\n",
    "#above logic using filter fn and iterations :\n",
    "evens1 = filter(lambda a:a%2==0, nums)\n",
    "for i in evens1:\n",
    "    print(i)"
   ]
  },
  {
   "cell_type": "code",
   "execution_count": 5,
   "metadata": {},
   "outputs": [],
   "source": [
    "#ITERATOR VS. ITERABLE :\n",
    "\n",
    "#Iterables = tuples, lists, strings\n",
    "#Iterators = map fn, filter fn"
   ]
  },
  {
   "cell_type": "code",
   "execution_count": 6,
   "metadata": {},
   "outputs": [
    {
     "name": "stdout",
     "output_type": "stream",
     "text": [
      "[('user1', 'harsh'), ('user2', 'jain'), ('user3', 'harshjain')]\n",
      "[('user1', 'harsh'), ('user2', 'jain')]\n",
      "{'user1': 'harsh', 'user2': 'jain'}\n",
      "{'a': 1, 'b': 2}\n",
      "[('user1', 'harsh', 'jain'), ('user2', 'jain', 'jain'), ('user3', 'harshjain', 'jain')]\n"
     ]
    }
   ],
   "source": [
    "#ZIP FUNCTION : ITERATOR, it always returns tuple.\n",
    "user_id = ['user1', 'user2', 'user3']\n",
    "names = ['harsh', 'jain', 'harshjain']\n",
    "print(list(zip(user_id, names)))\n",
    "\n",
    "user_id1 = ['user1', 'user2']\n",
    "names1 = ['harsh', 'jain', 'harshjain']\n",
    "print(list(zip(user_id1, names1)))\n",
    "print(dict(zip(user_id1, names1)))\n",
    "\n",
    "exam = [('a', 1), ('b', 2)]\n",
    "#convert exam to dictionary\n",
    "print(dict(exam))\n",
    "\n",
    "#ZIP can work with more than 2 lists :\n",
    "user_id2 = ['user1', 'user2', 'user3']\n",
    "names2 = ['harsh', 'jain', 'harshjain']\n",
    "last_name = ['jain', 'jain', 'jain']\n",
    "print(list(zip(user_id2, names2, last_name)))"
   ]
  },
  {
   "cell_type": "code",
   "execution_count": 7,
   "metadata": {},
   "outputs": [
    {
     "name": "stdout",
     "output_type": "stream",
     "text": [
      "(1, 3, 5, 7)\n",
      "(2, 4, 6, 8)\n",
      "[1, 3, 5, 7]\n",
      "[2, 4, 6, 8]\n",
      "[2, 4, 6, 8]\n"
     ]
    }
   ],
   "source": [
    "#ZIP FUNCTION PART 2:\n",
    "l = [(1,2), (3,4), (5,6), (7,8)]\n",
    "# * operator with zip :\n",
    "l1, l2 = list(zip(*l))\n",
    "print(l1)\n",
    "print(l2)\n",
    "print(list(l1))\n",
    "print(list(l2))\n",
    "\n",
    "l1 = [1,3,5,7]\n",
    "l2 = [2,4,6,8]\n",
    "new_list = []\n",
    "for pair in zip(l1,l2):\n",
    "    new_list.append(max(pair))\n",
    "print(new_list)\n"
   ]
  },
  {
   "cell_type": "code",
   "execution_count": 8,
   "metadata": {},
   "outputs": [
    {
     "name": "stdout",
     "output_type": "stream",
     "text": [
      "[4.0, 5.0, 6.0]\n"
     ]
    }
   ],
   "source": [
    "#ADVANCE FUNCTION PRACTICE 1 :\n",
    "def average_finder(*args):\n",
    "    avg = []\n",
    "    for pair in zip(*args):\n",
    "        avg.append(sum(pair)/len(pair))\n",
    "    return avg\n",
    "\n",
    "print(average_finder([1,2,3], [4,5,6], [7,8,9]))"
   ]
  },
  {
   "cell_type": "code",
   "execution_count": 9,
   "metadata": {},
   "outputs": [
    {
     "name": "stdout",
     "output_type": "stream",
     "text": [
      "[4.0, 5.0, 6.0]\n",
      "[4.0, 5.0, 6.0]\n"
     ]
    }
   ],
   "source": [
    "#above code using lambda :\n",
    "#ADVANCE FUNCTION PRACTICE 1 :\n",
    "def average_finder(*args):\n",
    "    avg = []\n",
    "    for pair in zip(*args):\n",
    "        avg.append(sum(pair)/len(pair))\n",
    "    return avg\n",
    "\n",
    "avg_find = lambda *args : [sum(pair)/len(pair) for pair in zip(*args)]\n",
    "print(avg_find([1,2,3], [4,5,6], [7,8,9]))\n",
    "print(average_finder([1,2,3], [4,5,6], [7,8,9]))"
   ]
  },
  {
   "cell_type": "code",
   "execution_count": 10,
   "metadata": {},
   "outputs": [
    {
     "name": "stdout",
     "output_type": "stream",
     "text": [
      "[True, True, True, True, True]\n",
      "True\n",
      "True\n",
      "True\n"
     ]
    }
   ],
   "source": [
    "#any() and all() function :\n",
    "\n",
    "num1 = [2,4,6,8,10]\n",
    "num2 = [1,2,3,4,5,6]\n",
    "\n",
    "#simple way :\n",
    "evens = []\n",
    "for i in num1:\n",
    "    if i%2 == 0:\n",
    "        evens.append(True)\n",
    "print(evens)\n",
    "\n",
    "#using all fn :\n",
    "print(all([True, True, True, True, True]))\n",
    "#method 3 :\n",
    "print(all([i%2 == 0 for i in num1]))\n",
    "\n",
    "#using any fn :\n",
    "print(any([i%2 == 0 for i in num2]))"
   ]
  },
  {
   "cell_type": "code",
   "execution_count": 11,
   "metadata": {},
   "outputs": [
    {
     "name": "stdout",
     "output_type": "stream",
     "text": [
      "wrong input\n"
     ]
    }
   ],
   "source": [
    "#any and all practice programs:\n",
    "\n",
    "def my_sum(*args):\n",
    "    if all([(type(arg) == int or type(arg) == float) for arg in args]):\n",
    "        total = 0\n",
    "        for num in args:\n",
    "            total += num\n",
    "        return total\n",
    "    else:\n",
    "        return \"wrong input\"\n",
    "\n",
    "print(my_sum(1,2,3,4,5,6.9,7,8, 'harsh'))"
   ]
  },
  {
   "cell_type": "code",
   "execution_count": 16,
   "metadata": {},
   "outputs": [
    {
     "name": "stdout",
     "output_type": "stream",
     "text": [
      "7\n",
      "harshjain\n",
      "harsh\n",
      "sundeep\n"
     ]
    }
   ],
   "source": [
    "#Advance min and max :\n",
    "\n",
    "nums = [1,2,4,5,7]\n",
    "print(max(nums))\n",
    "\n",
    "names = ['harsh', 'jain', 'harshjain']\n",
    "print(max(names, key = lambda item : len(item)))\n",
    "\n",
    "students = {\n",
    "    'harsh' : {'score' : 100, 'age' : 19},\n",
    "    'sundeep' : {'score' : 98, 'age' : 20},\n",
    "    'mohit' : {'score' : 96, 'age' : 21}\n",
    "}\n",
    "print(max(students, key = lambda item : students[item]['score']))\n",
    "\n",
    "\n",
    "students2 = [\n",
    "    \n",
    "    {'name' : 'harsh', 'score' : 90, 'age' : 19},\n",
    "    {'name' : 'sundeep', 'score' : 80, 'age' : 29},\n",
    "    {'name' : 'mohit', 'score' : 70, 'age' : 23}\n",
    "]\n",
    "\n",
    "print(max(students2, key = lambda item1 : item1.get('age'))['name'])"
   ]
  },
  {
   "cell_type": "code",
   "execution_count": 24,
   "metadata": {},
   "outputs": [
    {
     "name": "stdout",
     "output_type": "stream",
     "text": [
      "['apple', 'grapes', 'mango']\n"
     ]
    },
    {
     "data": {
      "text/plain": [
       "[{'model': 'yf3', 'price': 84000},\n",
       " {'model': 'tf3', 'price': 74000},\n",
       " {'model': 'faf3', 'price': 64000},\n",
       " {'model': 'ff3', 'price': 54000}]"
      ]
     },
     "execution_count": 24,
     "metadata": {},
     "output_type": "execute_result"
    }
   ],
   "source": [
    "#Advanced Sorted():\n",
    "fruits = ['grapes', 'mango', 'apple']\n",
    "fruits.sort()\n",
    "print(fruits)\n",
    "\n",
    "fruits2 = ('grapes', 'mango', 'apple') #tuples are immutable\n",
    "sorted(fruits2)\n",
    "\n",
    "fruits3 = {'grapes', 'mango', 'apple'}\n",
    "sorted(fruits3)\n",
    "\n",
    "\n",
    "guitars = [\n",
    "    {'model' : 'yf3', 'price' : 84000},\n",
    "    {'model' : 'ff3', 'price' : 54000},\n",
    "    {'model' : 'faf3', 'price' : 64000},\n",
    "    {'model' : 'tf3', 'price' : 74000}\n",
    "]\n",
    "\n",
    "sorted(guitars, key = lambda d: d['price'], reverse = True)"
   ]
  },
  {
   "cell_type": "code",
   "execution_count": 30,
   "metadata": {},
   "outputs": [
    {
     "name": "stdout",
     "output_type": "stream",
     "text": [
      "5\n",
      "this function takes two numbers and return their sum\n",
      "Return the number of items in a container.\n",
      "Return the sum of a 'start' value (default: 0) plus an iterable of numbers\n",
      "\n",
      "When the iterable is empty, return the start value.\n",
      "This function is intended specifically for use with numeric values and may\n",
      "reject non-numeric types.\n",
      "Help on built-in function sorted in module builtins:\n",
      "\n",
      "sorted(iterable, /, *, key=None, reverse=False)\n",
      "    Return a new list containing all items from the iterable in ascending order.\n",
      "    \n",
      "    A custom key function can be supplied to customize the sort order, and the\n",
      "    reverse flag can be set to request the result in descending order.\n",
      "\n"
     ]
    }
   ],
   "source": [
    "#More about functions :\n",
    "\n",
    "#what are doc strings\n",
    "#how to write doc strings\n",
    "#how to see docstrings\n",
    "#what is help function :\n",
    "\n",
    "\n",
    "def add(a,b):\n",
    "    '''this function takes two numbers and return their sum'''\n",
    "    return a+b\n",
    "print(add(2,3))\n",
    "print(add.__doc__)\n",
    "\n",
    "#len, sum, max, min, sorted\n",
    "\n",
    "print(len.__doc__)\n",
    "print(sum.__doc__)\n",
    "\n",
    "help(sorted)"
   ]
  },
  {
   "cell_type": "code",
   "execution_count": 31,
   "metadata": {},
   "outputs": [
    {
     "name": "stdout",
     "output_type": "stream",
     "text": [
      "\t\t\tEND OF CHAPTER 14 \n"
     ]
    }
   ],
   "source": [
    "print(\"\\t\\t\\tEND OF CHAPTER 14 \")"
   ]
  },
  {
   "cell_type": "code",
   "execution_count": null,
   "metadata": {},
   "outputs": [],
   "source": []
  }
 ],
 "metadata": {
  "kernelspec": {
   "display_name": "Python 3",
   "language": "python",
   "name": "python3"
  },
  "language_info": {
   "codemirror_mode": {
    "name": "ipython",
    "version": 3
   },
   "file_extension": ".py",
   "mimetype": "text/x-python",
   "name": "python",
   "nbconvert_exporter": "python",
   "pygments_lexer": "ipython3",
   "version": "3.7.1"
  }
 },
 "nbformat": 4,
 "nbformat_minor": 2
}
