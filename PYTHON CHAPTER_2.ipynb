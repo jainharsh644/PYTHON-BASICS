{
 "cells": [
  {
   "cell_type": "code",
   "execution_count": null,
   "metadata": {},
   "outputs": [],
   "source": []
  },
  {
   "cell_type": "code",
   "execution_count": null,
   "metadata": {},
   "outputs": [],
   "source": []
  },
  {
   "cell_type": "code",
   "execution_count": 1,
   "metadata": {},
   "outputs": [
    {
     "name": "stdout",
     "output_type": "stream",
     "text": [
      "Harsh Jain\n",
      "Harsh JainHarsh JainHarsh Jain\n"
     ]
    }
   ],
   "source": [
    "#STRING CONCATENATION\n",
    "#WHAT IS STRRING : String is collection of characters inside single or double quotes\n",
    "\n",
    "first_name = \"Harsh\"\n",
    "last_name = \"Jain\"\n",
    "MyName = first_name + ' ' + last_name\n",
    "print(MyName)\n",
    "print(MyName*3)"
   ]
  },
  {
   "cell_type": "code",
   "execution_count": 2,
   "metadata": {},
   "outputs": [
    {
     "name": "stdout",
     "output_type": "stream",
     "text": [
      "Enter the number a1\n",
      "Enter the number b2\n",
      "3\n",
      "Enter your nameHarshJain\n",
      "Hello HarshJain\n",
      "What is your age? 19\n",
      "My age is 19\n"
     ]
    }
   ],
   "source": [
    "#USER INPUT\n",
    "number = input(\"Enter the number a\")\n",
    "number1 = input(\"Enter the number b\")\n",
    "output = int(number) + int(number1)\n",
    "print(output)\n",
    "\n",
    "name = input(\"Enter your name\")\n",
    "print(\"Hello \" + name)\n",
    "\n",
    "#HERE THE AGE IS TAKEN AS STRING \n",
    "age = input(\"What is your age? \")\n",
    "print(\"My age is \" + age)"
   ]
  },
  {
   "cell_type": "code",
   "execution_count": 3,
   "metadata": {},
   "outputs": [
    {
     "name": "stdout",
     "output_type": "stream",
     "text": [
      "Enter the number a1\n",
      "Enter the number b2\n",
      "Total is 3\n",
      "4.0\n",
      "7.0\n"
     ]
    }
   ],
   "source": [
    "#Int() Function\n",
    "number = int(input(\"Enter the number a\"))\n",
    "number1 = int(input(\"Enter the number b\"))\n",
    "output = number + number1\n",
    "print(\"Total is \" + str(output))\n",
    "\n",
    "#FLOAT \n",
    "number = 4\n",
    "print(float(number))\n",
    "\n",
    "#ADD INT WITH FLOAT - Changes the output into Float\n",
    "\n",
    "number1 = float(3)\n",
    "number2 = int(4)\n",
    "print(number1 + number2)"
   ]
  },
  {
   "cell_type": "code",
   "execution_count": 4,
   "metadata": {},
   "outputs": [
    {
     "name": "stdout",
     "output_type": "stream",
     "text": [
      "Harsh My age is  19\n",
      "3\n"
     ]
    }
   ],
   "source": [
    "#MORE ABOUT VARIABLES\n",
    "\n",
    "name, bet, age = \"Harsh\", \"My age is \", 19\n",
    "print(name, bet, age)\n",
    "\n",
    "x=y=z=1\n",
    "print(x+y+z)"
   ]
  },
  {
   "cell_type": "code",
   "execution_count": 5,
   "metadata": {},
   "outputs": [
    {
     "name": "stdout",
     "output_type": "stream",
     "text": [
      "Enter your Name and Age: HarshJAIN 19\n",
      "HarshJAIN\n",
      "19\n"
     ]
    }
   ],
   "source": [
    "#TWO OR MORE INPUT IN ONELINE\n",
    "\n",
    "#name = input(\"Enter your name\")\n",
    "#age = input(\"Enter your age\")\n",
    "\n",
    "name, age = input(\"Enter your Name and Age: \").split()\n",
    "print(name)\n",
    "print(age)"
   ]
  },
  {
   "cell_type": "code",
   "execution_count": 6,
   "metadata": {},
   "outputs": [
    {
     "name": "stdout",
     "output_type": "stream",
     "text": [
      "Hello HarshJain Your age is 24\n",
      "Hello HarshJain your age is 24 \n",
      "Hello HarshJain your age is 24\n",
      "Hello HarshJain your age is 26\n"
     ]
    }
   ],
   "source": [
    "#The syntax is long to print the below stmt\n",
    "name = \"HarshJain\"\n",
    "age = 24\n",
    "print(\"Hello \" + name + \" \" + \"Your age is \" + str(age))\n",
    "\n",
    "#To print the above stmt using simpler method is done by \"\"STRING FORMATTING\"\" :\n",
    "\n",
    "#In python 3(Used when writing programs online)\n",
    "print(\"Hello {} your age is {} \".format(name, age) )\n",
    "\n",
    "# In python 3.6(Best)\n",
    "print(f\"Hello {name} your age is {age}\")\n",
    "print(f\"Hello {name} your age is {age + 2}\")"
   ]
  },
  {
   "cell_type": "code",
   "execution_count": 9,
   "metadata": {},
   "outputs": [
    {
     "name": "stdout",
     "output_type": "stream",
     "text": [
      "Enter the number 12\n",
      "Enter the number 22\n",
      "Enter the number 32\n",
      "The Average of 3 numbers 2\n"
     ]
    }
   ],
   "source": [
    "#EXERCISE - I\n",
    "\n",
    "num1 = int(input(\"Enter the number 1\"))\n",
    "num2 = int(input(\"Enter the number 2\"))\n",
    "num3 = int(input(\"Enter the number 3\"))\n",
    "Average = (num1 + num2 + num3)/3\n",
    "print(f\"The Average of 3 numbers {int(Average)}\")"
   ]
  },
  {
   "cell_type": "code",
   "execution_count": 12,
   "metadata": {},
   "outputs": [
    {
     "name": "stdout",
     "output_type": "stream",
     "text": [
      "Enter the three numbers :2,2,2\n",
      "Average of three numbers : 2.0\n"
     ]
    }
   ],
   "source": [
    "#ALTERNATE SOLUTION OF ABOVE EXERCISE\n",
    "num1, num2, num3 = input(\"Enter the three numbers :\").split(\",\")\n",
    "print(f\"Average of three numbers : {(int(num1) + int(num2) + int(num3))/3}\")"
   ]
  },
  {
   "cell_type": "code",
   "execution_count": 23,
   "metadata": {},
   "outputs": [
    {
     "name": "stdout",
     "output_type": "stream",
     "text": [
      "p\n",
      "y\n",
      "t\n",
      "h\n",
      "o\n",
      "n\n",
      "p\n",
      "y\n",
      "t\n",
      "h\n",
      "o\n",
      "n\n",
      "o\n"
     ]
    }
   ],
   "source": [
    "#p  y  t  h  o  n\n",
    "#0  1  2  3  4  5\n",
    "#-1 -2 -3 -4 -5 -6\n",
    "\n",
    "#STRING INDEXING : \n",
    "lang = \"python\"\n",
    "i = 0\n",
    "#index value starts from 0\n",
    "while i<len(lang):\n",
    "    print(lang[i])\n",
    "    i += 1\n",
    "\n",
    "for i in range(len(lang)):\n",
    "    print(lang[i])\n",
    "    i += 1\n",
    "\n",
    "print(lang[-2])"
   ]
  },
  {
   "cell_type": "code",
   "execution_count": 33,
   "metadata": {},
   "outputs": [
    {
     "name": "stdout",
     "output_type": "stream",
     "text": [
      "pyt\n"
     ]
    }
   ],
   "source": [
    "#STRING SLICING : \n",
    "\n",
    "lang = \"python\"\n",
    "#SYNTAX : [START ARGUMENT : STOP ARGUMENT-1]\n",
    "print(lang[:3])"
   ]
  },
  {
   "cell_type": "code",
   "execution_count": 39,
   "metadata": {},
   "outputs": [
    {
     "name": "stdout",
     "output_type": "stream",
     "text": [
      "pto\n",
      "nohtyp\n",
      "nohtyp\n",
      "nohtyp\n"
     ]
    }
   ],
   "source": [
    "#STEP ARGUMENT:\n",
    "lang = \"python\"\n",
    "#SYNTAX : [START ARGUMENT : STOP ARGUMENT-1 : STEP]\n",
    "print(lang[0:5:2])\n",
    "print(lang[::-1]) #REVERSING THE STRING\n",
    "print(lang[5::-1]) # REVERSE\n",
    "print(lang[-1::-1]) #REVERSE"
   ]
  },
  {
   "cell_type": "code",
   "execution_count": 41,
   "metadata": {},
   "outputs": [
    {
     "name": "stdout",
     "output_type": "stream",
     "text": [
      "Enter your name  :Harsh\n",
      "hsraH\n"
     ]
    }
   ],
   "source": [
    "#EXERCISE - II\n",
    "\n",
    "user_name = input(\"Enter your name  :\")\n",
    "print(user_name[::-1])"
   ]
  },
  {
   "cell_type": "code",
   "execution_count": 51,
   "metadata": {},
   "outputs": [
    {
     "name": "stdout",
     "output_type": "stream",
     "text": [
      "harsh jain\n",
      "HARSH JAIN\n",
      "Harsh Jain\n",
      "10\n",
      "2\n"
     ]
    }
   ],
   "source": [
    "#STRING METHODS:\n",
    "\n",
    "name = \"HarsH jAiN\"\n",
    "print(name.lower())\n",
    "print(name.upper())\n",
    "print(name.title())\n",
    "print(len(name))\n",
    "print(name.count(\"H\"))"
   ]
  },
  {
   "cell_type": "code",
   "execution_count": 69,
   "metadata": {},
   "outputs": [
    {
     "name": "stdout",
     "output_type": "stream",
     "text": [
      "Enter the name and single character : harshjain, h\n",
      "9\n",
      "character count : 2\n"
     ]
    }
   ],
   "source": [
    "#EXERCISE - III\n",
    "\n",
    "user_name, single_char = input(\"Enter the name and single character : \").split(\",\")\n",
    "print(len(user_name))\n",
    "\n",
    "#use strip method to take the char input with space\n",
    "print(f\"character count : {user_name.strip().lower().count(single_char.strip().lower())}\")\n"
   ]
  },
  {
   "cell_type": "code",
   "execution_count": 68,
   "metadata": {},
   "outputs": [
    {
     "name": "stdout",
     "output_type": "stream",
     "text": [
      "     Harsh      ................\n",
      "     Harsh................\n",
      "Harsh................\n",
      "Harsh................\n"
     ]
    }
   ],
   "source": [
    "#STRIP METHOD :\n",
    "name = \"     Harsh      \"\n",
    "dots = \"................\"\n",
    "\n",
    "#SYNTAX : lstrip() method and rstrip()\n",
    "print(name + dots)\n",
    "print(name.rstrip() + dots.lstrip())\n",
    "print(name.strip() + dots.strip())\n",
    "print(name.replace(\" \",\"\") + dots)"
   ]
  },
  {
   "cell_type": "code",
   "execution_count": 85,
   "metadata": {},
   "outputs": [
    {
     "name": "stdout",
     "output_type": "stream",
     "text": [
      "25\n"
     ]
    }
   ],
   "source": [
    "#FIND() AND REPLACE() METHODS : \n",
    "\n",
    "string = \"She is beautiful and she is good dancer\"\n",
    "#print(string.replace(\"is\",\"was\",string.count(\"is\")))\n",
    "\n",
    "is_pos1 = string.find(\"is\")\n",
    "is_pos2 = string.find(\"is\",is_pos1+1)\n",
    "print(is_pos2)"
   ]
  },
  {
   "cell_type": "code",
   "execution_count": 92,
   "metadata": {},
   "outputs": [
    {
     "name": "stdout",
     "output_type": "stream",
     "text": [
      "Enter the name : harshjain\n",
      "****harshjain****\n"
     ]
    }
   ],
   "source": [
    "#CENTER METHOD :\n",
    "\n",
    "#name = \"harshjain\"\n",
    "#name.center(13,\"*\")\n",
    "name = input(\"Enter the name : \")\n",
    "print(name.center(len(name)+8,\"*\"))"
   ]
  },
  {
   "cell_type": "code",
   "execution_count": 95,
   "metadata": {},
   "outputs": [
    {
     "name": "stdout",
     "output_type": "stream",
     "text": [
      "harsh\n",
      "hArsh\n"
     ]
    }
   ],
   "source": [
    "#STRINGS ARE IMMUTABLE : THAT IS WE CANT CHANGE\n",
    "\n",
    "string = \"harsh\"\n",
    "new_string = string.replace(\"a\",\"A\")\n",
    "print(string)\n",
    "print(new_string)"
   ]
  },
  {
   "cell_type": "code",
   "execution_count": 98,
   "metadata": {},
   "outputs": [
    {
     "name": "stdout",
     "output_type": "stream",
     "text": [
      "harshjain\n"
     ]
    }
   ],
   "source": [
    "#ASSIGNMENT OPERATORS : \n",
    "name = \"harsh\"\n",
    "#name = name + \"jain\"\n",
    "name += \"jain\"\n",
    "print(name)"
   ]
  },
  {
   "cell_type": "code",
   "execution_count": 99,
   "metadata": {},
   "outputs": [
    {
     "name": "stdout",
     "output_type": "stream",
     "text": [
      "\t\t\tEND OF PYTHON CHAPTER_2\n"
     ]
    }
   ],
   "source": [
    "print(\"\\t\\t\\tEND OF PYTHON CHAPTER_2\")"
   ]
  },
  {
   "cell_type": "code",
   "execution_count": null,
   "metadata": {},
   "outputs": [],
   "source": []
  }
 ],
 "metadata": {
  "kernelspec": {
   "display_name": "Python 3",
   "language": "python",
   "name": "python3"
  },
  "language_info": {
   "codemirror_mode": {
    "name": "ipython",
    "version": 3
   },
   "file_extension": ".py",
   "mimetype": "text/x-python",
   "name": "python",
   "nbconvert_exporter": "python",
   "pygments_lexer": "ipython3",
   "version": "3.7.1"
  }
 },
 "nbformat": 4,
 "nbformat_minor": 2
}
